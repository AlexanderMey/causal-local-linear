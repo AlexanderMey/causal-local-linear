{
 "cells": [
  {
   "cell_type": "markdown",
   "id": "7f015d8a",
   "metadata": {},
   "source": [
    "This Notebook accompanies the submission of the paper \"Causal Discovery in Time Series Data Using Causally Invariant Locally Linear Models\" submitted to the NeuRIPS 2022 Workshop \"A Causal View on Dynamical Systems\". Running this Notebook in order will create all figures of the appendix."
   ]
  },
  {
   "cell_type": "code",
   "execution_count": 2,
   "id": "9a073da2",
   "metadata": {},
   "outputs": [],
   "source": [
    "### Some initializations\n",
    "import numpy as np\n",
    "import math\n",
    "import random\n",
    "import copy\n",
    "import matplotlib.pyplot as plt\n",
    "import scipy\n",
    "from sklearn import linear_model\n",
    "from group_lasso import GroupLasso\n",
    "import warnings\n",
    "import itertools\n",
    "# warnings.filterwarnings(\"ignore\")"
   ]
  },
  {
   "cell_type": "code",
   "execution_count": 47,
   "id": "ae7e0b2c",
   "metadata": {},
   "outputs": [
    {
     "name": "stdout",
     "output_type": "stream",
     "text": [
      "Lambda 1 of 6\n",
      "Lambda 2 of 6\n",
      "Lambda 3 of 6\n",
      "Lambda 4 of 6\n",
      "Lambda 5 of 6\n",
      "Lambda 6 of 6\n"
     ]
    },
    {
     "data": {
      "image/png": "[encoded data removed]",
      "text/plain": [
       "<Figure size 432x288 with 1 Axes>"
      ]
     },
     "metadata": {
      "needs_background": "light"
     },
     "output_type": "display_data"
    }
   ],
   "source": [
    "### Here we use VAR data to create Figure 3a in the Appendix\n",
    "\n",
    "## Here we generate the data\n",
    "I=1000  #Number of intervals, which leaves a model sample size (hat(n)) of 4\n",
    "lambdas=[0.5,1,2,3,4,5]\n",
    "sample_size=np.zeros(len(lambdas))\n",
    "runs=100\n",
    "success4=np.zeros(len(lambdas))\n",
    "n_switch=40  #Ground truth sample size\n",
    "diff=np.zeros(len(Intervals))\n",
    "np.random.seed(0)\n",
    "d=5 #Dimensionality\n",
    "target=1 #Target covariate\n",
    "length=4000  #Total length of the time series\n",
    "for p,lam in enumerate(lambdas):\n",
    "    print('Lambda',p+1,'of',len(lambdas))\n",
    "    for r in range(runs):\n",
    "        n=length//I  #Model sample size (hat(n))\n",
    "        sample_size[p]=n\n",
    "        series=np.zeros((length,d))\n",
    "        x=np.zeros((I,n,d))\n",
    "        y=np.zeros((I,n))\n",
    "        A=np.array([[0.5,-0.7,0,0,0.9],[0,0.4,1,0,0.5],[0,0,-0.9,0,0],[0,0.5,0,0.8,-1],[0,0,0,0,0.4]])\n",
    "        supp=copy.copy(A)\n",
    "        supp[supp!=0]=1\n",
    "        non_supp=np.argwhere(A == 0)\n",
    "        mean=np.zeros((d))\n",
    "        cov=np.eye(d)\n",
    "        series[0]=np.random.multivariate_normal(mean,4*np.eye(d))\n",
    "        count=1\n",
    "        i=-1\n",
    "        b=np.random.uniform(low=0,high=30)\n",
    "        a=np.random.uniform(low=-30,high=0)\n",
    "        for j in range(0,n*I-1):\n",
    "            series[j+1] =np.matmul(series[j],A)\n",
    "            series[j+1,np.delete(np.array([0,1,2,3,4]),target)] =series[j+1,np.delete(np.array([0,1,2,3,4]),target)]+ np.random.uniform(low=a,high=b,size=(d-1))\n",
    "            A=A+np.random.normal(loc=-0.001,scale=0.001,size=(5,5))*supp\n",
    "            A[A>0.9]=0.8\n",
    "            A[A<-0.9]=-0.8\n",
    "            if j%n_switch==0:\n",
    "                b=np.random.uniform(low=0,high=30)\n",
    "                a=np.random.uniform(low=-30,high=0)\n",
    "            if j%n==0:\n",
    "                i+=1\n",
    "            x[i,j-i*n,:]=series[j,:]\n",
    "            y[i,j-i*n]=series[j+1,target]\n",
    "            y[i,j-i*n]=series[j+1,target]+np.random.normal(loc=0,scale=1)\n",
    "\n",
    "        ## Here we perform the variance test\n",
    "        R=np.zeros((I,n))\n",
    "        a=[list(itertools.combinations((0,1,2,3,4), k)) for k in range(0,d)]\n",
    "        subsets = [item for sublist in a for item in sublist]\n",
    "        dic={}\n",
    "\n",
    "        for ind in subsets:\n",
    "            for i in range(I):\n",
    "                if len(ind)==0:\n",
    "                    R[i,:]=y[i,:]\n",
    "                else:\n",
    "                    ind=np.array(ind)\n",
    "                    beta_hat=np.linalg.inv(x[i,:,ind]@x[i,:,ind].T+lam*np.eye(len(ind)))@(x[i,:,ind])@y[i,:]\n",
    "                    R[i,:]=y[i,:]-x[i,:,ind].T@beta_hat\n",
    "\n",
    "\n",
    "            dic[tuple(ind)]=copy.copy(R)\n",
    "        S_ini=[]\n",
    "        for k in dic:\n",
    "            Res=dic[k]\n",
    "            if np.var(np.var(Res,axis=1))<1:\n",
    "                S_ini.append(k)\n",
    "        plausibleS=[set(S_ini[k]) for k in range(len(S_ini))]\n",
    "        if not not plausibleS:\n",
    "            if tuple(set.intersection(*plausibleS))==tuple((np.argwhere(A[:,target]!=0).flatten())):\n",
    "                success4[p]+=1\n",
    "success4=success4/runs\n",
    "fig, ax = plt.subplots()\n",
    "for label in (ax.get_xticklabels() + ax.get_yticklabels()):\n",
    "\tlabel.set_fontsize(14)\n",
    "plt.plot(lambdas,success4,linewidth=2.5)\n",
    "plt.xlabel('Lambda',fontsize=14)\n",
    "plt.ylabel('Success Rate',fontsize=14)\n",
    "plt.savefig('variationVARLargeLambda.eps', format='eps')"
   ]
  },
  {
   "cell_type": "code",
   "execution_count": 56,
   "id": "5efc302f",
   "metadata": {},
   "outputs": [
    {
     "name": "stdout",
     "output_type": "stream",
     "text": [
      "Noise 1 of 4\n"
     ]
    },
    {
     "name": "stderr",
     "output_type": "stream",
     "text": [
      "/tmp/ipykernel_344/1726791797.py:69: UserWarning: p-value floored: true value smaller than 0.001\n",
      "  pval=scipy.stats.anderson_ksamp(Res)[2]\n",
      "/tmp/ipykernel_344/1726791797.py:69: UserWarning: p-value capped: true value larger than 0.25\n",
      "  pval=scipy.stats.anderson_ksamp(Res)[2]\n"
     ]
    },
    {
     "name": "stdout",
     "output_type": "stream",
     "text": [
      "Noise 2 of 4\n",
      "Noise 3 of 4\n",
      "Noise 4 of 4\n"
     ]
    },
    {
     "data": {
      "image/png": "[encoded data removed]",
      "text/plain": [
       "<Figure size 432x288 with 1 Axes>"
      ]
     },
     "metadata": {
      "needs_background": "light"
     },
     "output_type": "display_data"
    }
   ],
   "source": [
    "### Here we use VAR data to create Figure 3b in the Appendix\n",
    "\n",
    "\n",
    "I=100  #Total modeled intervals, the modelled sample size will follow\n",
    "runs=100\n",
    "noises=[1,2,2.5,3]\n",
    "success3=np.zeros(len(noises))\n",
    "sample_size=np.zeros(len(noises))\n",
    "n_switch=40  # Ground truth sample size per interval\n",
    "np.random.seed(0)\n",
    "d=5 #Dimensionality\n",
    "target=1 #Target covariate\n",
    "length=4000  #Total length of the time series\n",
    "for p,noise in enumerate(noises):\n",
    "    print('Noise',p+1,'of',len(noises))\n",
    "    for r in range(runs):\n",
    "        n=length//I  #Model sample size, equivalent to hat(n) in the paper\n",
    "        sample_size[p]=n\n",
    "        series=np.zeros((length,d))\n",
    "        x=np.zeros((I,n,d))\n",
    "        y=np.zeros((I,n))\n",
    "        A=np.array([[0.5,-0.7,0,0,0.9],[0,0.4,1,0,0.5],[0,0,-0.9,0,0],[0,0.5,0,0.8,-1],[0,0,0,0,0.4]])\n",
    "        supp=copy.copy(A)\n",
    "        supp[supp!=0]=1\n",
    "        non_supp=np.argwhere(A == 0)\n",
    "        mean=np.zeros((d))\n",
    "        cov=np.eye(d)\n",
    "        series[0]=np.random.multivariate_normal(mean,4*np.eye(d))\n",
    "        count=1\n",
    "        i=-1\n",
    "        b=np.random.uniform(low=0,high=30)\n",
    "        a=np.random.uniform(low=-30,high=0)\n",
    "        for j in range(0,n*I-1):\n",
    "            series[j+1] =np.matmul(series[j],A)\n",
    "            series[j+1,np.delete(np.array([0,1,2,3,4]),target)] =series[j+1,np.delete(np.array([0,1,2,3,4]),target)]+ np.random.uniform(low=a,high=b,size=(d-1))\n",
    "            series[j+1,target] =series[j+1,target]+ np.random.uniform(low=-1,high=1)\n",
    "            A=A+np.random.normal(loc=-0.0001,scale=0.001,size=(5,5))*supp\n",
    "            A[A>0.9]=0.8\n",
    "            A[A<-0.9]=-0.8\n",
    "            if j%n_switch==0:\n",
    "                b=np.random.uniform(low=0,high=30)\n",
    "                a=np.random.uniform(low=-30,high=0)\n",
    "            if j%n==0:\n",
    "                i+=1\n",
    "            x[i,j-i*n,:]=series[j,:]\n",
    "            y[i,j-i*n]=series[j+1,target]\n",
    "            y[i,j-i*n]=series[j+1,target]+np.random.normal(loc=0,scale=noise)\n",
    "\n",
    "        ## Here we perform the hypothesis test\n",
    "        R=np.zeros((I,n))\n",
    "        a=[list(itertools.combinations((0,1,2,3,4), k)) for k in range(0,d)]\n",
    "        subsets = [item for sublist in a for item in sublist]\n",
    "        dic={}\n",
    "\n",
    "        for ind in subsets:\n",
    "            for i in range(I):\n",
    "                if len(ind)==0:\n",
    "                    R[i,:]=y[i,:]\n",
    "                else:\n",
    "                    ind=np.array(ind)\n",
    "                    beta_hat=np.linalg.inv(x[i,:,ind]@x[i,:,ind].T+0.01*np.eye(len(ind)))@(x[i,:,ind])@y[i,:]\n",
    "                    R[i,:]=y[i,:]-x[i,:,ind].T@beta_hat\n",
    "\n",
    "\n",
    "            dic[tuple(ind)]=copy.copy(R)\n",
    "        S_ini=[]\n",
    "        for k in dic:\n",
    "            Res=dic[k]\n",
    "            pval=scipy.stats.anderson_ksamp(Res)[2]\n",
    "            if pval>0.05:\n",
    "                S_ini.append(k)\n",
    "        plausibleS=[set(S_ini[k]) for k in range(len(S_ini))]\n",
    "        if not not plausibleS:\n",
    "            if tuple(set.intersection(*plausibleS))==tuple((np.argwhere(A[:,target]!=0).flatten())):\n",
    "                success3[p]+=1\n",
    "\n",
    "success3=success3/runs\n",
    "fig, ax = plt.subplots()\n",
    "for label in (ax.get_xticklabels() + ax.get_yticklabels()):\n",
    "\tlabel.set_fontsize(14)\n",
    "plt.plot([v**2 for v in noises],success3,linewidth=2.5)\n",
    "plt.xlabel('Noise Variance',fontsize=14)\n",
    "plt.ylabel('Success Rate',fontsize=14)\n",
    "plt.savefig('andersonVARlargenoise.eps', format='eps')"
   ]
  }
 ],
 "metadata": {
  "kernelspec": {
   "display_name": "Python 3 (ipykernel)",
   "language": "python",
   "name": "python3"
  },
  "language_info": {
   "codemirror_mode": {
    "name": "ipython",
    "version": 3
   },
   "file_extension": ".py",
   "mimetype": "text/x-python",
   "name": "python",
   "nbconvert_exporter": "python",
   "pygments_lexer": "ipython3",
   "version": "3.8.10"
  }
 },
 "nbformat": 4,
 "nbformat_minor": 5
}
