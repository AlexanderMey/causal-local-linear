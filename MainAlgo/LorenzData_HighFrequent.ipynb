{
 "cells": [
  {
   "cell_type": "code",
   "execution_count": 6,
   "id": "9fda1f2b",
   "metadata": {},
   "outputs": [],
   "source": [
    "### Some initializations\n",
    "import numpy as np\n",
    "import random\n",
    "import loli\n",
    "import pickle\n",
    "import copy as copy\n"
   ]
  },
  {
   "cell_type": "code",
   "execution_count": 7,
   "id": "2e408eef",
   "metadata": {},
   "outputs": [],
   "source": [
    "# Generating Lorenz data: high frequency\n",
    "\n",
    "rs=1\n",
    "np.random.seed(rs)\n",
    "size=100000\n",
    "X_fine=np.zeros((size+1,6))\n",
    "X_fine[0,:]=[1,0.97,0.99,-1,4,10]\n",
    "\n",
    "\n",
    "for t in range(size):\n",
    "    e_obs=np.random.multivariate_normal(np.zeros(6),0.001*np.eye(6))\n",
    "    x_new=[X_fine[t,0]*0.95+0.05*X_fine[t,1],\\\n",
    "           0.125*X_fine[t,0]-0.005*X_fine[t,0]*X_fine[t,2]+0.995*X_fine[t,1]+0.0005*X_fine[t,4]**2,\\\n",
    "           0.005*X_fine[t,0]*X_fine[t,1]+0.98665*X_fine[t,2],\\\n",
    "           X_fine[t,3]*0.95+0.05*X_fine[t,4],\\\n",
    "           X_fine[t,3]*0.14-X_fine[t,3]*X_fine[t,5]*0.005+0.995*X_fine[t,4]+0.00025*X_fine[t,1]**2,\\\n",
    "           0.005*X_fine[t,3]*X_fine[t,4]+0.98665*X_fine[t,5]]\n",
    "    X_fine[t+1,:]=x_new+e_obs\n"
   ]
  },
  {
   "cell_type": "code",
   "execution_count": 25,
   "id": "75e725d0",
   "metadata": {
    "scrolled": true
   },
   "outputs": [
    {
     "name": "stdout",
     "output_type": "stream",
     "text": [
      "0\n",
      "1\n",
      "2\n",
      "3\n",
      "4\n",
      "5\n",
      "Target 0 {0, 1} [{0, 1}, {0, 1, 2}, {0, 1, 3}, {0, 1, 4}, {0, 1, 5}, {0, 1, 2, 3}, {0, 1, 2, 4}, {0, 1, 2, 5}, {0, 1, 3, 4}, {0, 1, 3, 5}, {0, 1, 4, 5}, {0, 1, 2, 3, 4}, {0, 1, 2, 3, 5}, {0, 1, 2, 4, 5}, {0, 1, 3, 4, 5}, {0, 1, 2, 3, 4, 5}]\n",
      "Target 1 set() []\n",
      "Target 2 {0, 1, 2} [{0, 1, 2, 3, 4}, {0, 1, 2, 3, 5}, {0, 1, 2, 4, 5}, {0, 1, 2, 3, 4, 5}]\n"
     ]
    },
    {
     "ename": "KeyboardInterrupt",
     "evalue": "",
     "output_type": "error",
     "traceback": [
      "\u001b[0;31m---------------------------------------------------------------------------\u001b[0m",
      "\u001b[0;31mKeyboardInterrupt\u001b[0m                         Traceback (most recent call last)",
      "\u001b[0;32m/tmp/ipykernel_411/4109862496.py\u001b[0m in \u001b[0;36m<module>\u001b[0;34m\u001b[0m\n\u001b[1;32m     45\u001b[0m     \u001b[0mrs\u001b[0m\u001b[0;34m=\u001b[0m\u001b[0mnp\u001b[0m\u001b[0;34m.\u001b[0m\u001b[0mrandom\u001b[0m\u001b[0;34m.\u001b[0m\u001b[0mrandint\u001b[0m\u001b[0;34m(\u001b[0m\u001b[0mlow\u001b[0m\u001b[0;34m=\u001b[0m\u001b[0;36m1\u001b[0m\u001b[0;34m,\u001b[0m\u001b[0mhigh\u001b[0m\u001b[0;34m=\u001b[0m\u001b[0;36m1000\u001b[0m\u001b[0;34m)\u001b[0m\u001b[0;34m\u001b[0m\u001b[0;34m\u001b[0m\u001b[0m\n\u001b[1;32m     46\u001b[0m \u001b[0;31m#     rs=int(randomseeds[tar])\u001b[0m\u001b[0;34m\u001b[0m\u001b[0;34m\u001b[0m\u001b[0;34m\u001b[0m\u001b[0m\n\u001b[0;32m---> 47\u001b[0;31m     \u001b[0mplausibleS\u001b[0m\u001b[0;34m=\u001b[0m\u001b[0mloli\u001b[0m\u001b[0;34m.\u001b[0m\u001b[0mgauss\u001b[0m\u001b[0;34m(\u001b[0m\u001b[0mdataX\u001b[0m\u001b[0;34m,\u001b[0m\u001b[0mdataY\u001b[0m\u001b[0;34m,\u001b[0m\u001b[0ml\u001b[0m\u001b[0;34m=\u001b[0m\u001b[0;36m1\u001b[0m\u001b[0;34m,\u001b[0m\u001b[0malpha\u001b[0m\u001b[0;34m=\u001b[0m\u001b[0;36m0.1\u001b[0m\u001b[0;34m,\u001b[0m\u001b[0mlam\u001b[0m\u001b[0;34m=\u001b[0m\u001b[0;36m0\u001b[0m\u001b[0;34m,\u001b[0m\u001b[0mB\u001b[0m\u001b[0;34m=\u001b[0m\u001b[0;36m1000\u001b[0m\u001b[0;34m,\u001b[0m\u001b[0mrs\u001b[0m\u001b[0;34m=\u001b[0m\u001b[0mrs\u001b[0m\u001b[0;34m)\u001b[0m\u001b[0;34m\u001b[0m\u001b[0;34m\u001b[0m\u001b[0m\n\u001b[0m\u001b[1;32m     48\u001b[0m     \u001b[0;32mif\u001b[0m \u001b[0mlen\u001b[0m\u001b[0;34m(\u001b[0m\u001b[0mplausibleS\u001b[0m\u001b[0;34m)\u001b[0m\u001b[0;34m==\u001b[0m\u001b[0;36m0\u001b[0m\u001b[0;34m:\u001b[0m\u001b[0;34m\u001b[0m\u001b[0;34m\u001b[0m\u001b[0m\n\u001b[1;32m     49\u001b[0m         \u001b[0msupphat\u001b[0m\u001b[0;34m=\u001b[0m\u001b[0mset\u001b[0m\u001b[0;34m(\u001b[0m\u001b[0;34m)\u001b[0m\u001b[0;34m\u001b[0m\u001b[0;34m\u001b[0m\u001b[0m\n",
      "\u001b[0;32m/mnt/c/Users/20214899/OneDrive - TU Eindhoven/Documents/Github/causal-local-linear/MainAlgo/loli.py\u001b[0m in \u001b[0;36mgauss\u001b[0;34m(x, y, B, l, alpha, lam, rs, intercept)\u001b[0m\n\u001b[1;32m     36\u001b[0m                 \u001b[0;32melse\u001b[0m\u001b[0;34m:\u001b[0m\u001b[0;34m\u001b[0m\u001b[0;34m\u001b[0m\u001b[0m\n\u001b[1;32m     37\u001b[0m                     \u001b[0mm\u001b[0m\u001b[0;34m=\u001b[0m\u001b[0mlen\u001b[0m\u001b[0;34m(\u001b[0m\u001b[0mind\u001b[0m\u001b[0;34m)\u001b[0m\u001b[0;34m\u001b[0m\u001b[0;34m\u001b[0m\u001b[0m\n\u001b[0;32m---> 38\u001b[0;31m                 \u001b[0mbeta_hat\u001b[0m\u001b[0;34m=\u001b[0m\u001b[0mnp\u001b[0m\u001b[0;34m.\u001b[0m\u001b[0mlinalg\u001b[0m\u001b[0;34m.\u001b[0m\u001b[0minv\u001b[0m\u001b[0;34m(\u001b[0m\u001b[0mxtemp\u001b[0m\u001b[0;34m.\u001b[0m\u001b[0mT\u001b[0m\u001b[0;34m@\u001b[0m\u001b[0mxtemp\u001b[0m\u001b[0;34m+\u001b[0m\u001b[0mlam\u001b[0m\u001b[0;34m*\u001b[0m\u001b[0mnp\u001b[0m\u001b[0;34m.\u001b[0m\u001b[0meye\u001b[0m\u001b[0;34m(\u001b[0m\u001b[0mm\u001b[0m\u001b[0;34m)\u001b[0m\u001b[0;34m)\u001b[0m\u001b[0;34m@\u001b[0m\u001b[0;34m(\u001b[0m\u001b[0mxtemp\u001b[0m\u001b[0;34m.\u001b[0m\u001b[0mT\u001b[0m\u001b[0;34m)\u001b[0m\u001b[0;34m@\u001b[0m\u001b[0my\u001b[0m\u001b[0;34m[\u001b[0m\u001b[0mi\u001b[0m\u001b[0;34m]\u001b[0m\u001b[0;34m\u001b[0m\u001b[0;34m\u001b[0m\u001b[0m\n\u001b[0m\u001b[1;32m     39\u001b[0m                 \u001b[0mRes\u001b[0m\u001b[0;34m[\u001b[0m\u001b[0mi\u001b[0m\u001b[0;34m]\u001b[0m\u001b[0;34m=\u001b[0m\u001b[0mnp\u001b[0m\u001b[0;34m.\u001b[0m\u001b[0msum\u001b[0m\u001b[0;34m(\u001b[0m\u001b[0;34m(\u001b[0m\u001b[0my\u001b[0m\u001b[0;34m[\u001b[0m\u001b[0mi\u001b[0m\u001b[0;34m]\u001b[0m\u001b[0;34m-\u001b[0m\u001b[0mxtemp\u001b[0m\u001b[0;34m@\u001b[0m\u001b[0mbeta_hat\u001b[0m\u001b[0;34m)\u001b[0m\u001b[0;34m**\u001b[0m\u001b[0;36m2\u001b[0m\u001b[0;34m)\u001b[0m\u001b[0;34m\u001b[0m\u001b[0;34m\u001b[0m\u001b[0m\n\u001b[1;32m     40\u001b[0m                 \u001b[0;32mif\u001b[0m \u001b[0;34m(\u001b[0m\u001b[0mn\u001b[0m\u001b[0;34m,\u001b[0m\u001b[0mlen\u001b[0m\u001b[0;34m(\u001b[0m\u001b[0mind\u001b[0m\u001b[0;34m)\u001b[0m\u001b[0;34m)\u001b[0m \u001b[0;32mnot\u001b[0m \u001b[0;32min\u001b[0m \u001b[0mSimulations\u001b[0m\u001b[0;34m:\u001b[0m\u001b[0;34m\u001b[0m\u001b[0;34m\u001b[0m\u001b[0m\n",
      "\u001b[0;31mKeyboardInterrupt\u001b[0m: "
     ]
    }
   ],
   "source": [
    "### That was for a coupled run\n",
    "\n",
    "E=100\n",
    "gap=1\n",
    "gapsearch=2\n",
    "n=30\n",
    "Xtest=copy.copy(X_fine)\n",
    "# Xtest=copy.copy(X)\n",
    "np.random.seed(1)\n",
    "## Collecting the indices of high environments with difference in variance\n",
    "indices=np.zeros(2*E*6)\n",
    "counter=0\n",
    "dataX=[]\n",
    "for d in range(6):\n",
    "    print(d)\n",
    "    vares=np.zeros((6,100000-n))\n",
    "    for i in range(0,100000-n,gapsearch):\n",
    "        inds=np.arange(i,i+n,gap)\n",
    "        vares[:,i]=np.var(Xtest[inds,:],axis=0)  \n",
    "    sortvares=np.argsort(vares[d,:] )\n",
    "    np.random.seed(1)\n",
    "\n",
    "\n",
    "    for e in range(E):\n",
    "            p=sortvares[e]\n",
    "            indices[counter]=p\n",
    "            counter+=1\n",
    "            inds=np.arange(p,p+n,gap)\n",
    "            dataX.append(Xtest[inds,:])\n",
    "            p=sortvares[-e-1]\n",
    "            inds=np.arange(p,p+n,gap)\n",
    "            indices[counter]=p\n",
    "            counter+=1\n",
    "            dataX.append(Xtest[inds,:])\n",
    "            \n",
    "        \n",
    "        \n",
    "        \n",
    "for tar in range(6):\n",
    "    dataY=[]\n",
    "    for j in range(2*E*6):\n",
    "        p=int(indices[j])\n",
    "        inds=np.arange(p,p+n,gap)\n",
    "        dataY.append((Xtest[inds+gap,tar]))\n",
    "    rs=np.random.randint(low=1,high=1000)\n",
    "#     rs=int(randomseeds[tar])\n",
    "    plausibleS=loli.gauss(dataX,dataY,l=1,alpha=0.1,lam=0,B=1000,rs=rs)\n",
    "    if len(plausibleS)==0:\n",
    "        supphat=set()\n",
    "    else:\n",
    "        supphat=set.intersection(*plausibleS)\n",
    "\n",
    "    print('Target',tar,supphat,plausibleS)"
   ]
  },
  {
   "cell_type": "code",
   "execution_count": 23,
   "id": "1974fb6d",
   "metadata": {},
   "outputs": [
    {
     "name": "stdout",
     "output_type": "stream",
     "text": [
      "Target 4 set() []\n"
     ]
    }
   ],
   "source": [
    "rs=5\n",
    "tar=4\n",
    "dataY=[]\n",
    "for j in range(2*E*6):\n",
    "    p=int(indices[j])\n",
    "    inds=np.arange(p,p+n,gap)\n",
    "    dataY.append((Xtest[inds+gap,tar]))\n",
    "plausibleS=loli.gauss(dataX,dataY,l=1,alpha=0.1,lam=0,B=1000,rs=rs)\n",
    "if len(plausibleS)==0:\n",
    "    supphat=set()\n",
    "else:\n",
    "    supphat=set.intersection(*plausibleS)\n",
    "\n",
    "print('Target',tar,supphat,plausibleS)"
   ]
  },
  {
   "cell_type": "code",
   "execution_count": 9,
   "id": "d81f9624",
   "metadata": {},
   "outputs": [
    {
     "name": "stdout",
     "output_type": "stream",
     "text": [
      "0\n",
      "1\n",
      "2\n",
      "3\n",
      "4\n",
      "5\n",
      "Target 0 {0} [{0, 1}, {0, 1, 2}, {0, 1, 3}, {0, 1, 4}, {0, 1, 5}, {0, 1, 2, 4}, {0, 1, 2, 5}, {0, 1, 3, 4}, {0, 1, 3, 5}, {0, 1, 4, 5}, {0, 2, 3, 4}, {0, 1, 2, 3, 4}, {0, 1, 3, 4, 5}, {0, 1, 2, 3, 4, 5}]\n",
      "Target 1 set() []\n",
      "Target 2 {1, 2} [{0, 1, 2, 3}, {0, 1, 2, 5}, {1, 2, 3, 5}, {0, 1, 2, 3, 5}, {0, 1, 2, 4, 5}, {1, 2, 3, 4, 5}, {0, 1, 2, 3, 4, 5}]\n",
      "Target 3 {3} [{3, 4}, {0, 3, 4}, {1, 3, 4}, {2, 3, 4}, {3, 4, 5}, {0, 1, 3, 4}, {0, 2, 3, 4}, {1, 2, 3, 4}, {1, 3, 4, 5}, {2, 3, 4, 5}, {0, 1, 2, 3, 4}, {0, 1, 2, 3, 5}, {0, 1, 3, 4, 5}, {0, 2, 3, 4, 5}, {1, 2, 3, 4, 5}, {0, 1, 2, 3, 4, 5}]\n",
      "Target 4 set() []\n",
      "Target 5 {4, 5} [{3, 4, 5}, {0, 2, 4, 5}, {0, 3, 4, 5}, {1, 3, 4, 5}, {2, 3, 4, 5}, {0, 1, 2, 4, 5}, {0, 1, 3, 4, 5}, {0, 2, 3, 4, 5}, {1, 2, 3, 4, 5}, {0, 1, 2, 3, 4, 5}]\n"
     ]
    }
   ],
   "source": [
    "### That was for a coupled run\n",
    "\n",
    "E=100\n",
    "gap=2 #The gap in sampling\n",
    "gapsearch=5 # The gap when looking for high variance intervals\n",
    "n=30\n",
    "Xtest=copy.copy(X_fine)\n",
    "# Xtest=copy.copy(X)\n",
    "np.random.seed(42)\n",
    "## Collecting the indices of high environments with difference in variance\n",
    "indices=np.zeros(2*E*6)\n",
    "counter=0\n",
    "dataX=[]\n",
    "for d in range(6):\n",
    "    print(d)\n",
    "    vares=np.zeros((6,100000-n))\n",
    "    for i in range(0,100000-n,gapsearch):\n",
    "        inds=np.arange(i,i+n,gap)\n",
    "        vares[:,i]=np.var(Xtest[inds,:],axis=0)  \n",
    "    sortvares=np.argsort(vares[d,:] )\n",
    "    np.random.seed(1)\n",
    "\n",
    "\n",
    "    for e in range(E):\n",
    "            p=sortvares[e]\n",
    "            indices[counter]=p\n",
    "            counter+=1\n",
    "            inds=np.arange(p,p+n,gap)\n",
    "            dataX.append(Xtest[inds,:])\n",
    "            sortvares=list(filter(lambda i: i not in inds, sortvares))\n",
    "            p=sortvares[-e-1]\n",
    "            inds=np.arange(p,p+n,gap)\n",
    "            sortvares=list(filter(lambda i: i not in inds, sortvares))\n",
    "            indices[counter]=p\n",
    "            counter+=1\n",
    "            dataX.append(Xtest[inds,:])\n",
    "            \n",
    "        \n",
    "        \n",
    "        \n",
    "for tar in range(6):\n",
    "    dataY=[]\n",
    "    for j in range(2*E*6):\n",
    "        p=int(indices[j])\n",
    "        inds=np.arange(p,p+n,gap)\n",
    "        dataY.append((Xtest[inds+gap,tar]))\n",
    "    rs=np.random.randint(low=1,high=1000)\n",
    "    plausibleS=loli.gauss(dataX,dataY,l=1,alpha=0.1,lam=0,B=500,rs=rs)\n",
    "    if len(plausibleS)==0:\n",
    "        supphat=set()\n",
    "    else:\n",
    "        supphat=set.intersection(*plausibleS)\n",
    "\n",
    "    print('Target',tar,supphat,plausibleS)"
   ]
  },
  {
   "cell_type": "code",
   "execution_count": 47,
   "id": "7a8e91f5",
   "metadata": {},
   "outputs": [
    {
     "data": {
      "text/plain": [
       "array([-0.00957294, -0.01509258, -0.05437182,  0.02723789, -0.00558778,\n",
       "       -0.02790112])"
      ]
     },
     "execution_count": 47,
     "metadata": {},
     "output_type": "execute_result"
    }
   ],
   "source": [
    "np.random.multivariate_normal(np.zeros(6),0.001*np.eye(6))"
   ]
  },
  {
   "cell_type": "code",
   "execution_count": 101,
   "id": "90a29920",
   "metadata": {},
   "outputs": [],
   "source": [
    "# What if we have more fine grained data?\n",
    "# Generating coupled data: fine grained\n",
    "\n",
    "rs=2\n",
    "np.random.seed(rs)\n",
    "size=200000\n",
    "X_fine=np.zeros((size+1,6))\n",
    "X_fine[0,:]=[1,0.97,0.99,-1,4,10]\n",
    "X_obs=np.zeros((size,6))\n",
    "\n",
    "\n",
    "for t in range(size):\n",
    "    e=np.random.multivariate_normal(np.zeros(6),0.0001*np.eye(6))\n",
    "#     e=np.zeros(6)\n",
    "    e_obs=np.random.multivariate_normal(np.zeros(6),0.0001*np.eye(6))\n",
    "    x_new=[X_fine[t,0]*0.95+0.05*X_fine[t,1]+e[0],\\\n",
    "           0.125*X_fine[t,0]-0.005*X_fine[t,0]*X_fine[t,2]+0.995*X_fine[t,1]+0.0005*X_fine[t,4]**2+e[1],\\\n",
    "           0.005*X_fine[t,0]*X_fine[t,1]+0.98665*X_fine[t,2]+e[2],\\\n",
    "           X_fine[t,3]*0.95+0.05*X_fine[t,4]+e[3],\\\n",
    "           X_fine[t,3]*0.14-X_fine[t,3]*X_fine[t,5]*0.005+0.995*X_fine[t,4]+0.00025*X_fine[t,1]**2+e[4],\\\n",
    "           0.005*X_fine[t,3]*X_fine[t,4]+0.98665*X_fine[t,5]+e[5]]\n",
    "    X_fine[t+1,:]=x_new\n",
    "#     X_obs[t,:]=copy.copy(X_fine[t+1,:])+e_obs\n"
   ]
  },
  {
   "cell_type": "code",
   "execution_count": 102,
   "id": "ea1eee00",
   "metadata": {},
   "outputs": [
    {
     "name": "stdout",
     "output_type": "stream",
     "text": [
      "0\n",
      "1\n",
      "2\n",
      "3\n",
      "4\n",
      "5\n",
      "Target 0 {0, 1} [{0, 1}, {0, 1, 2}, {0, 1, 3}, {0, 1, 4}, {0, 1, 5}, {0, 1, 2, 3}, {0, 1, 2, 4}, {0, 1, 2, 5}, {0, 1, 3, 4}, {0, 1, 3, 5}, {0, 1, 4, 5}, {0, 1, 2, 3, 4}, {0, 1, 2, 3, 5}, {0, 1, 2, 4, 5}, {0, 1, 3, 4, 5}, {0, 1, 2, 3, 4, 5}]\n",
      "Target 1 {1, 2, 3, 5} [{1, 2, 3, 5}, {0, 1, 2, 3, 5}, {1, 2, 3, 4, 5}, {0, 1, 2, 3, 4, 5}]\n",
      "Target 2 {1, 2} [{0, 1, 2}, {0, 1, 2, 3}, {0, 1, 2, 4}, {0, 1, 2, 5}, {1, 2, 3, 4}, {0, 1, 2, 3, 4}, {0, 1, 2, 3, 5}, {0, 1, 2, 4, 5}, {1, 2, 3, 4, 5}, {0, 1, 2, 3, 4, 5}]\n",
      "Target 3 {3} [{3, 4}, {0, 3, 4}, {1, 3, 4}, {2, 3, 4}, {3, 4, 5}, {0, 1, 3, 4}, {0, 2, 3, 4}, {0, 3, 4, 5}, {1, 2, 3, 4}, {1, 3, 4, 5}, {2, 3, 4, 5}, {0, 1, 2, 3, 4}, {0, 1, 2, 3, 5}, {0, 1, 3, 4, 5}, {0, 2, 3, 4, 5}, {1, 2, 3, 4, 5}, {0, 1, 2, 3, 4, 5}]\n",
      "Target 4 {0, 1, 2, 3, 4, 5} [{0, 1, 2, 3, 4, 5}]\n",
      "Target 5 {4, 5} [{3, 4, 5}, {0, 1, 4, 5}, {0, 2, 4, 5}, {0, 3, 4, 5}, {1, 2, 4, 5}, {1, 3, 4, 5}, {2, 3, 4, 5}, {0, 1, 2, 4, 5}, {0, 1, 3, 4, 5}, {0, 2, 3, 4, 5}, {1, 2, 3, 4, 5}, {0, 1, 2, 3, 4, 5}]\n"
     ]
    }
   ],
   "source": [
    "### That was for a coupled run\n",
    "\n",
    "E=100\n",
    "gap=1\n",
    "gapsearch=2\n",
    "n=20\n",
    "Xtest=copy.copy(X_fine)\n",
    "# Xtest=copy.copy(X)\n",
    "np.random.seed(1)\n",
    "## Collecting the indices of high environments with difference in variance\n",
    "indices=np.zeros(2*E*6)\n",
    "counter=0\n",
    "dataX=[]\n",
    "for d in range(6):\n",
    "    print(d)\n",
    "    vares=np.zeros((6,size-n))\n",
    "    for i in range(0,size-n,gapsearch):\n",
    "        inds=np.arange(i,i+n,gap)\n",
    "        vares[:,i]=np.var(Xtest[inds,:],axis=0)  \n",
    "    sortvares=np.argsort(vares[d,:] )\n",
    "    np.random.seed(1)\n",
    "\n",
    "\n",
    "    for e in range(E):\n",
    "            p=sortvares[e]\n",
    "            indices[counter]=p\n",
    "            counter+=1\n",
    "            inds=np.arange(p,p+n,gap)\n",
    "            dataX.append(Xtest[inds,:])\n",
    "            p=sortvares[-e-1]\n",
    "            inds=np.arange(p,p+n,gap)\n",
    "            indices[counter]=p\n",
    "            counter+=1\n",
    "            dataX.append(Xtest[inds,:])\n",
    "            \n",
    "        \n",
    "        \n",
    "        \n",
    "for tar in range(6):\n",
    "    dataY=[]\n",
    "    for j in range(2*E*6):\n",
    "        p=int(indices[j])\n",
    "        inds=np.arange(p,p+n,gap)\n",
    "#         dataY.append((Xtest[inds+gap,tar]+np.random.multivariate_normal(np.zeros(len(inds)),0.0001*np.eye(len(inds)))))\n",
    "        dataY.append((Xtest[inds+gap,tar]))\n",
    "    rs=np.random.randint(low=1,high=1000)\n",
    "    plausibleS=loli.gauss(dataX,dataY,l=1,alpha=0.1,lam=0,B=1000,rs=rs)\n",
    "    if len(plausibleS)==0:\n",
    "        supphat=set()\n",
    "    else:\n",
    "        supphat=set.intersection(*plausibleS)\n",
    "\n",
    "    print('Target',tar,supphat,plausibleS)"
   ]
  },
  {
   "cell_type": "code",
   "execution_count": 88,
   "id": "87b304d9",
   "metadata": {},
   "outputs": [
    {
     "name": "stdout",
     "output_type": "stream",
     "text": [
      "Target 0 {0, 1} [{0, 1, 2}, {0, 1, 3}, {0, 1, 4}]\n",
      "Target 1 set() []\n",
      "Target 2 set() []\n",
      "Target 3 {3, 4} [{3, 4}, {0, 3, 4}, {1, 3, 4}, {2, 3, 4}, {3, 4, 5}, {0, 1, 3, 4}, {0, 2, 3, 4}, {0, 3, 4, 5}, {1, 2, 3, 4}, {1, 3, 4, 5}, {2, 3, 4, 5}, {0, 1, 2, 3, 4}, {0, 1, 3, 4, 5}, {0, 2, 3, 4, 5}, {1, 2, 3, 4, 5}, {0, 1, 2, 3, 4, 5}]\n",
      "Target 4 set() []\n",
      "Target 5 set() []\n"
     ]
    }
   ],
   "source": [
    "for tar in range(6):\n",
    "    dataY=[]\n",
    "    for j in range(2*E*6):\n",
    "        p=int(indices[j])\n",
    "        inds=np.arange(p,p+n,gap)\n",
    "        dataY.append((Xtest[inds+gap,tar]+np.random.multivariate_normal(np.zeros(len(inds)),0.0001*np.eye(len(inds)))))\n",
    "    rs=np.random.randint(low=1,high=1000)\n",
    "    plausibleS=loli.gauss(dataX,dataY,l=1,alpha=0.1,lam=0,B=500,rs=rs)\n",
    "    if len(plausibleS)==0:\n",
    "        supphat=set()\n",
    "    else:\n",
    "        supphat=set.intersection(*plausibleS)\n",
    "\n",
    "    print('Target',tar,supphat,plausibleS)"
   ]
  },
  {
   "cell_type": "code",
   "execution_count": 58,
   "id": "98fffea5",
   "metadata": {},
   "outputs": [
    {
     "name": "stdout",
     "output_type": "stream",
     "text": [
      "Target 0 {0, 1, 3, 5} [{0, 1, 3, 5}, {0, 1, 2, 3, 5}, {0, 1, 3, 4, 5}, {0, 1, 2, 3, 4, 5}]\n",
      "Target 1 set() []\n",
      "Target 2 set() []\n",
      "Target 3 {3, 4} [{3, 4}, {0, 3, 4}, {1, 3, 4}, {2, 3, 4}, {3, 4, 5}, {0, 1, 3, 4}, {0, 2, 3, 4}, {0, 3, 4, 5}, {1, 2, 3, 4}, {1, 3, 4, 5}, {2, 3, 4, 5}, {0, 1, 2, 3, 4}, {0, 1, 3, 4, 5}, {0, 2, 3, 4, 5}, {1, 2, 3, 4, 5}, {0, 1, 2, 3, 4, 5}]\n"
     ]
    },
    {
     "ename": "KeyboardInterrupt",
     "evalue": "",
     "output_type": "error",
     "traceback": [
      "\u001b[0;31m---------------------------------------------------------------------------\u001b[0m",
      "\u001b[0;31mKeyboardInterrupt\u001b[0m                         Traceback (most recent call last)",
      "\u001b[0;32m/tmp/ipykernel_411/2758717273.py\u001b[0m in \u001b[0;36m<module>\u001b[0;34m\u001b[0m\n\u001b[1;32m      6\u001b[0m         \u001b[0mdataY\u001b[0m\u001b[0;34m.\u001b[0m\u001b[0mappend\u001b[0m\u001b[0;34m(\u001b[0m\u001b[0;34m(\u001b[0m\u001b[0mXtest\u001b[0m\u001b[0;34m[\u001b[0m\u001b[0minds\u001b[0m\u001b[0;34m+\u001b[0m\u001b[0mgap\u001b[0m\u001b[0;34m,\u001b[0m\u001b[0mtar\u001b[0m\u001b[0;34m]\u001b[0m\u001b[0;34m)\u001b[0m\u001b[0;34m)\u001b[0m\u001b[0;34m\u001b[0m\u001b[0;34m\u001b[0m\u001b[0m\n\u001b[1;32m      7\u001b[0m     \u001b[0mrs\u001b[0m\u001b[0;34m=\u001b[0m\u001b[0mnp\u001b[0m\u001b[0;34m.\u001b[0m\u001b[0mrandom\u001b[0m\u001b[0;34m.\u001b[0m\u001b[0mrandint\u001b[0m\u001b[0;34m(\u001b[0m\u001b[0mlow\u001b[0m\u001b[0;34m=\u001b[0m\u001b[0;36m1\u001b[0m\u001b[0;34m,\u001b[0m\u001b[0mhigh\u001b[0m\u001b[0;34m=\u001b[0m\u001b[0;36m1000\u001b[0m\u001b[0;34m)\u001b[0m\u001b[0;34m\u001b[0m\u001b[0;34m\u001b[0m\u001b[0m\n\u001b[0;32m----> 8\u001b[0;31m     \u001b[0mplausibleS\u001b[0m\u001b[0;34m=\u001b[0m\u001b[0mloli\u001b[0m\u001b[0;34m.\u001b[0m\u001b[0mgauss\u001b[0m\u001b[0;34m(\u001b[0m\u001b[0mdataX\u001b[0m\u001b[0;34m,\u001b[0m\u001b[0mdataY\u001b[0m\u001b[0;34m,\u001b[0m\u001b[0ml\u001b[0m\u001b[0;34m=\u001b[0m\u001b[0;36m1\u001b[0m\u001b[0;34m,\u001b[0m\u001b[0malpha\u001b[0m\u001b[0;34m=\u001b[0m\u001b[0;36m0.01\u001b[0m\u001b[0;34m,\u001b[0m\u001b[0mlam\u001b[0m\u001b[0;34m=\u001b[0m\u001b[0;36m0\u001b[0m\u001b[0;34m,\u001b[0m\u001b[0mB\u001b[0m\u001b[0;34m=\u001b[0m\u001b[0;36m1000\u001b[0m\u001b[0;34m,\u001b[0m\u001b[0mrs\u001b[0m\u001b[0;34m=\u001b[0m\u001b[0mrs\u001b[0m\u001b[0;34m)\u001b[0m\u001b[0;34m\u001b[0m\u001b[0;34m\u001b[0m\u001b[0m\n\u001b[0m\u001b[1;32m      9\u001b[0m     \u001b[0;32mif\u001b[0m \u001b[0mlen\u001b[0m\u001b[0;34m(\u001b[0m\u001b[0mplausibleS\u001b[0m\u001b[0;34m)\u001b[0m\u001b[0;34m==\u001b[0m\u001b[0;36m0\u001b[0m\u001b[0;34m:\u001b[0m\u001b[0;34m\u001b[0m\u001b[0;34m\u001b[0m\u001b[0m\n\u001b[1;32m     10\u001b[0m         \u001b[0msupphat\u001b[0m\u001b[0;34m=\u001b[0m\u001b[0mset\u001b[0m\u001b[0;34m(\u001b[0m\u001b[0;34m)\u001b[0m\u001b[0;34m\u001b[0m\u001b[0;34m\u001b[0m\u001b[0m\n",
      "\u001b[0;32m/mnt/c/Users/20214899/OneDrive - TU Eindhoven/Documents/Github/causal-local-linear/MainAlgo/loli.py\u001b[0m in \u001b[0;36mgauss\u001b[0;34m(x, y, B, l, alpha, lam, rs, intercept)\u001b[0m\n\u001b[1;32m     40\u001b[0m                 \u001b[0;32mif\u001b[0m \u001b[0;34m(\u001b[0m\u001b[0mn\u001b[0m\u001b[0;34m,\u001b[0m\u001b[0mlen\u001b[0m\u001b[0;34m(\u001b[0m\u001b[0mind\u001b[0m\u001b[0;34m)\u001b[0m\u001b[0;34m)\u001b[0m \u001b[0;32mnot\u001b[0m \u001b[0;32min\u001b[0m \u001b[0mSimulations\u001b[0m\u001b[0;34m:\u001b[0m\u001b[0;34m\u001b[0m\u001b[0;34m\u001b[0m\u001b[0m\n\u001b[1;32m     41\u001b[0m                     \u001b[0mSimulations\u001b[0m\u001b[0;34m[\u001b[0m\u001b[0;34m(\u001b[0m\u001b[0mn\u001b[0m\u001b[0;34m,\u001b[0m\u001b[0mlen\u001b[0m\u001b[0;34m(\u001b[0m\u001b[0mind\u001b[0m\u001b[0;34m)\u001b[0m\u001b[0;34m)\u001b[0m\u001b[0;34m]\u001b[0m\u001b[0;34m=\u001b[0m\u001b[0;34m(\u001b[0m\u001b[0mnp\u001b[0m\u001b[0;34m.\u001b[0m\u001b[0mrandom\u001b[0m\u001b[0;34m.\u001b[0m\u001b[0mchisquare\u001b[0m\u001b[0;34m(\u001b[0m\u001b[0mn\u001b[0m\u001b[0;34m-\u001b[0m\u001b[0mm\u001b[0m\u001b[0;34m,\u001b[0m\u001b[0mB\u001b[0m\u001b[0;34m)\u001b[0m\u001b[0;34m)\u001b[0m\u001b[0;34m\u001b[0m\u001b[0;34m\u001b[0m\u001b[0m\n\u001b[0;32m---> 42\u001b[0;31m                 \u001b[0mT_mc\u001b[0m\u001b[0;34m[\u001b[0m\u001b[0mi\u001b[0m\u001b[0;34m,\u001b[0m\u001b[0;34m:\u001b[0m\u001b[0;34m]\u001b[0m\u001b[0;34m=\u001b[0m\u001b[0;34m(\u001b[0m\u001b[0mnp\u001b[0m\u001b[0;34m.\u001b[0m\u001b[0mrandom\u001b[0m\u001b[0;34m.\u001b[0m\u001b[0mchisquare\u001b[0m\u001b[0;34m(\u001b[0m\u001b[0mn\u001b[0m\u001b[0;34m-\u001b[0m\u001b[0mm\u001b[0m\u001b[0;34m,\u001b[0m\u001b[0mB\u001b[0m\u001b[0;34m)\u001b[0m\u001b[0;34m)\u001b[0m\u001b[0;34m\u001b[0m\u001b[0;34m\u001b[0m\u001b[0m\n\u001b[0m\u001b[1;32m     43\u001b[0m         \u001b[0;32mif\u001b[0m \u001b[0ml\u001b[0m\u001b[0;34m==\u001b[0m\u001b[0;36m1\u001b[0m\u001b[0;34m:\u001b[0m\u001b[0;34m\u001b[0m\u001b[0;34m\u001b[0m\u001b[0m\n\u001b[1;32m     44\u001b[0m             \u001b[0mpval\u001b[0m\u001b[0;34m=\u001b[0m\u001b[0;36m1\u001b[0m\u001b[0;34m/\u001b[0m\u001b[0mB\u001b[0m\u001b[0;34m*\u001b[0m\u001b[0mnp\u001b[0m\u001b[0;34m.\u001b[0m\u001b[0msum\u001b[0m\u001b[0;34m(\u001b[0m\u001b[0mnp\u001b[0m\u001b[0;34m.\u001b[0m\u001b[0mmin\u001b[0m\u001b[0;34m(\u001b[0m\u001b[0mRes\u001b[0m\u001b[0;34m)\u001b[0m\u001b[0;34m*\u001b[0m\u001b[0mnp\u001b[0m\u001b[0;34m.\u001b[0m\u001b[0mmax\u001b[0m\u001b[0;34m(\u001b[0m\u001b[0mT_mc\u001b[0m\u001b[0;34m,\u001b[0m\u001b[0maxis\u001b[0m\u001b[0;34m=\u001b[0m\u001b[0;36m0\u001b[0m\u001b[0;34m)\u001b[0m\u001b[0;34m>\u001b[0m\u001b[0mnp\u001b[0m\u001b[0;34m.\u001b[0m\u001b[0mmax\u001b[0m\u001b[0;34m(\u001b[0m\u001b[0mRes\u001b[0m\u001b[0;34m)\u001b[0m\u001b[0;34m*\u001b[0m\u001b[0mnp\u001b[0m\u001b[0;34m.\u001b[0m\u001b[0mmin\u001b[0m\u001b[0;34m(\u001b[0m\u001b[0mT_mc\u001b[0m\u001b[0;34m,\u001b[0m\u001b[0maxis\u001b[0m\u001b[0;34m=\u001b[0m\u001b[0;36m0\u001b[0m\u001b[0;34m)\u001b[0m\u001b[0;34m)\u001b[0m\u001b[0;34m\u001b[0m\u001b[0;34m\u001b[0m\u001b[0m\n",
      "\u001b[0;31mKeyboardInterrupt\u001b[0m: "
     ]
    }
   ],
   "source": [
    "for tar in range(6):\n",
    "    dataY=[]\n",
    "    for j in range(2*E*6):\n",
    "        p=int(indices[j])\n",
    "        inds=np.arange(p,p+n,gap)\n",
    "        dataY.append((Xtest[inds+gap,tar]))\n",
    "    rs=np.random.randint(low=1,high=1000)\n",
    "    plausibleS=loli.gauss(dataX,dataY,l=1,alpha=0.01,lam=0,B=1000,rs=rs)\n",
    "    if len(plausibleS)==0:\n",
    "        supphat=set()\n",
    "    else:\n",
    "        supphat=set.intersection(*plausibleS)\n",
    "\n",
    "    print('Target',tar,supphat,plausibleS)"
   ]
  },
  {
   "cell_type": "code",
   "execution_count": 41,
   "id": "1d7ed927",
   "metadata": {},
   "outputs": [
    {
     "data": {
      "text/plain": [
       "array([ 8.27235229,  7.53715543, 25.72265678,  1.38475748,  3.39527467,\n",
       "       21.62093045])"
      ]
     },
     "execution_count": 41,
     "metadata": {},
     "output_type": "execute_result"
    }
   ],
   "source": [
    "X_obs"
   ]
  },
  {
   "cell_type": "code",
   "execution_count": 28,
   "id": "c8676a3c",
   "metadata": {},
   "outputs": [
    {
     "name": "stdout",
     "output_type": "stream",
     "text": [
      "Target 1 set() []\n"
     ]
    }
   ],
   "source": [
    "tar=1\n",
    "dataY=[]\n",
    "for j in range(2*E*6):\n",
    "    p=int(indices[j])\n",
    "    inds=np.arange(p,p+n,gap)\n",
    "    dataY.append((Xtest[inds+gap,tar]))\n",
    "rs=np.random.randint(low=1,high=1000)\n",
    "plausibleS=loli.gauss(dataX,dataY,l=1,alpha=0.1,lam=0,B=1000)\n",
    "if len(plausibleS)==0:\n",
    "    supphat=set()\n",
    "else:\n",
    "    supphat=set.intersection(*plausibleS)\n",
    "\n",
    "print('Target',tar,supphat,plausibleS)"
   ]
  },
  {
   "cell_type": "code",
   "execution_count": 29,
   "id": "2781624f",
   "metadata": {},
   "outputs": [
    {
     "data": {
      "text/plain": [
       "array([[ 1.        ,  0.97      ,  0.99      , -1.        ,  4.        ,\n",
       "        10.        ],\n",
       "       [ 1.04986631,  1.07385456,  0.96493124, -0.78393025,  3.91760182,\n",
       "         9.77371896],\n",
       "       [ 1.10624152,  1.17825566,  0.96777533, -0.55673943,  3.87309735,\n",
       "         9.56273681],\n",
       "       [ 1.0996465 ,  1.30064718,  0.99722565, -0.3700292 ,  3.79730252,\n",
       "         9.39653242],\n",
       "       [ 1.11103145,  1.45175677,  0.95625931, -0.12546328,  3.77283059,\n",
       "         9.27995341],\n",
       "       [ 1.15655528,  1.5635605 ,  0.94767185,  0.03985979,  3.73427858,\n",
       "         9.17047059],\n",
       "       [ 1.15503331,  1.6892579 ,  0.92233185,  0.19785298,  3.69874441,\n",
       "         9.04838855],\n",
       "       [ 1.14641208,  1.83411738,  0.97226202,  0.39636305,  3.69364588,\n",
       "         8.90318231],\n",
       "       [ 1.15717013,  2.02301687,  0.97140227,  0.54108362,  3.71990229,\n",
       "         8.85806085],\n",
       "       [ 1.20426222,  2.17836417,  0.97963114,  0.68888543,  3.71798328,\n",
       "         8.73882244]])"
      ]
     },
     "execution_count": 29,
     "metadata": {},
     "output_type": "execute_result"
    }
   ],
   "source": [
    "X_fine[:10,:]"
   ]
  }
 ],
 "metadata": {
  "kernelspec": {
   "display_name": "Python 3 (ipykernel)",
   "language": "python",
   "name": "python3"
  },
  "language_info": {
   "codemirror_mode": {
    "name": "ipython",
    "version": 3
   },
   "file_extension": ".py",
   "mimetype": "text/x-python",
   "name": "python",
   "nbconvert_exporter": "python",
   "pygments_lexer": "ipython3",
   "version": "3.8.10"
  }
 },
 "nbformat": 4,
 "nbformat_minor": 5
}
