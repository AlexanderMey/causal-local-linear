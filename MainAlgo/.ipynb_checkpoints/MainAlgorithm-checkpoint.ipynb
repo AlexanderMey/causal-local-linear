{
 "cells": [
  {
   "cell_type": "code",
   "execution_count": 1,
   "id": "8ebc0d8b",
   "metadata": {},
   "outputs": [],
   "source": [
    "### Some initializations\n",
    "import numpy as np\n",
    "import math\n",
    "import random\n",
    "import copy\n",
    "import matplotlib.pyplot as plt\n",
    "import scipy\n",
    "import scipy.stats\n",
    "import warnings\n",
    "import itertools\n",
    "from Main_full import main\n",
    "from heapq import nlargest\n"
   ]
  },
  {
   "cell_type": "code",
   "execution_count": 2,
   "id": "47d301bb",
   "metadata": {},
   "outputs": [
    {
     "name": "stdout",
     "output_type": "stream",
     "text": [
      "Sample Size 1 of 4\n"
     ]
    },
    {
     "ename": "ValueError",
     "evalue": "could not broadcast input array from shape (6,6) into shape (6,)",
     "output_type": "error",
     "traceback": [
      "\u001b[0;31m---------------------------------------------------------------------------\u001b[0m",
      "\u001b[0;31mValueError\u001b[0m                                Traceback (most recent call last)",
      "\u001b[0;32m/tmp/ipykernel_849/3527658018.py\u001b[0m in \u001b[0;36m<module>\u001b[0;34m\u001b[0m\n\u001b[1;32m     31\u001b[0m \u001b[0;34m\u001b[0m\u001b[0m\n\u001b[1;32m     32\u001b[0m \u001b[0;34m\u001b[0m\u001b[0m\n\u001b[0;32m---> 33\u001b[0;31m         \u001b[0mplausibleS\u001b[0m\u001b[0;34m=\u001b[0m\u001b[0mmain\u001b[0m\u001b[0;34m(\u001b[0m\u001b[0mx\u001b[0m\u001b[0;34m,\u001b[0m\u001b[0my\u001b[0m\u001b[0;34m,\u001b[0m\u001b[0mb\u001b[0m\u001b[0;34m,\u001b[0m\u001b[0ml\u001b[0m\u001b[0;34m)\u001b[0m\u001b[0;34m\u001b[0m\u001b[0;34m\u001b[0m\u001b[0m\n\u001b[0m\u001b[1;32m     34\u001b[0m         \u001b[0;32mif\u001b[0m \u001b[0;32mnot\u001b[0m \u001b[0;32mnot\u001b[0m \u001b[0mplausibleS\u001b[0m\u001b[0;34m:\u001b[0m\u001b[0;34m\u001b[0m\u001b[0;34m\u001b[0m\u001b[0m\n\u001b[1;32m     35\u001b[0m             \u001b[0;32mif\u001b[0m \u001b[0mtuple\u001b[0m\u001b[0;34m(\u001b[0m\u001b[0mset\u001b[0m\u001b[0;34m.\u001b[0m\u001b[0mintersection\u001b[0m\u001b[0;34m(\u001b[0m\u001b[0;34m*\u001b[0m\u001b[0mplausibleS\u001b[0m\u001b[0;34m)\u001b[0m\u001b[0;34m)\u001b[0m\u001b[0;34m==\u001b[0m\u001b[0;34m(\u001b[0m\u001b[0;36m0\u001b[0m\u001b[0;34m,\u001b[0m\u001b[0;36m1\u001b[0m\u001b[0;34m)\u001b[0m\u001b[0;34m:\u001b[0m\u001b[0;34m\u001b[0m\u001b[0;34m\u001b[0m\u001b[0m\n",
      "\u001b[0;32m/mnt/c/Users/20214899/OneDrive - TU Eindhoven/Documents/Github/causal-local-linear/MainAlgo/Main_full.py\u001b[0m in \u001b[0;36mmain\u001b[0;34m(x, y, B, l)\u001b[0m\n\u001b[1;32m     20\u001b[0m                 \u001b[0mind\u001b[0m\u001b[0;34m=\u001b[0m\u001b[0mnp\u001b[0m\u001b[0;34m.\u001b[0m\u001b[0marray\u001b[0m\u001b[0;34m(\u001b[0m\u001b[0mind\u001b[0m\u001b[0;34m)\u001b[0m\u001b[0;34m\u001b[0m\u001b[0;34m\u001b[0m\u001b[0m\n\u001b[1;32m     21\u001b[0m                 \u001b[0mbeta_hat\u001b[0m\u001b[0;34m=\u001b[0m\u001b[0mnp\u001b[0m\u001b[0;34m.\u001b[0m\u001b[0mlinalg\u001b[0m\u001b[0;34m.\u001b[0m\u001b[0minv\u001b[0m\u001b[0;34m(\u001b[0m\u001b[0mx\u001b[0m\u001b[0;34m[\u001b[0m\u001b[0mi\u001b[0m\u001b[0;34m,\u001b[0m\u001b[0;34m:\u001b[0m\u001b[0;34m,\u001b[0m\u001b[0mind\u001b[0m\u001b[0;34m]\u001b[0m\u001b[0;34m@\u001b[0m\u001b[0mx\u001b[0m\u001b[0;34m[\u001b[0m\u001b[0mi\u001b[0m\u001b[0;34m,\u001b[0m\u001b[0;34m:\u001b[0m\u001b[0;34m,\u001b[0m\u001b[0mind\u001b[0m\u001b[0;34m]\u001b[0m\u001b[0;34m.\u001b[0m\u001b[0mT\u001b[0m\u001b[0;34m)\u001b[0m\u001b[0;34m\u001b[0m\u001b[0;34m\u001b[0m\u001b[0m\n\u001b[0;32m---> 22\u001b[0;31m                 \u001b[0mR\u001b[0m\u001b[0;34m[\u001b[0m\u001b[0mi\u001b[0m\u001b[0;34m,\u001b[0m\u001b[0;34m:\u001b[0m\u001b[0;34m]\u001b[0m\u001b[0;34m=\u001b[0m\u001b[0my\u001b[0m\u001b[0;34m[\u001b[0m\u001b[0mi\u001b[0m\u001b[0;34m,\u001b[0m\u001b[0;34m:\u001b[0m\u001b[0;34m]\u001b[0m\u001b[0;34m-\u001b[0m\u001b[0mx\u001b[0m\u001b[0;34m[\u001b[0m\u001b[0mi\u001b[0m\u001b[0;34m,\u001b[0m\u001b[0;34m:\u001b[0m\u001b[0;34m,\u001b[0m\u001b[0mind\u001b[0m\u001b[0;34m]\u001b[0m\u001b[0;34m.\u001b[0m\u001b[0mT\u001b[0m\u001b[0;34m@\u001b[0m\u001b[0mbeta_hat\u001b[0m\u001b[0;34m\u001b[0m\u001b[0;34m\u001b[0m\u001b[0m\n\u001b[0m\u001b[1;32m     23\u001b[0m         \u001b[0mdic\u001b[0m\u001b[0;34m[\u001b[0m\u001b[0mtuple\u001b[0m\u001b[0;34m(\u001b[0m\u001b[0mind\u001b[0m\u001b[0;34m)\u001b[0m\u001b[0;34m]\u001b[0m\u001b[0;34m=\u001b[0m\u001b[0mcopy\u001b[0m\u001b[0;34m.\u001b[0m\u001b[0mcopy\u001b[0m\u001b[0;34m(\u001b[0m\u001b[0mR\u001b[0m\u001b[0;34m)\u001b[0m\u001b[0;34m\u001b[0m\u001b[0;34m\u001b[0m\u001b[0m\n\u001b[1;32m     24\u001b[0m     \u001b[0mS_ini\u001b[0m\u001b[0;34m=\u001b[0m\u001b[0;34m[\u001b[0m\u001b[0;34m]\u001b[0m\u001b[0;34m\u001b[0m\u001b[0;34m\u001b[0m\u001b[0m\n",
      "\u001b[0;31mValueError\u001b[0m: could not broadcast input array from shape (6,6) into shape (6,)"
     ]
    }
   ],
   "source": [
    "### Here we use i.i.d data to create Figure 1a\n",
    "np.random.seed(0)\n",
    "d=5  #Dimensionality\n",
    "s=2  #Number of support entries\n",
    "samples=[6,7,8,9]  #Sample Sizes\n",
    "success=np.zeros(len(samples))\n",
    "runs=10\n",
    "l=5 # Number of intervals we combine for the statistics\n",
    "B=100 # Bootstrap runs\n",
    "I=20      #Number of Intervals \n",
    "lam=0   #Lambda\n",
    "a=[list(itertools.combinations(range(d), k)) for k in range(0,d)]\n",
    "subsets = [item for sublist in a for item in sublist]\n",
    "dic={}\n",
    "for o,n in enumerate(samples):\n",
    "    print('Sample Size',o+1,'of',len(samples))\n",
    "    for r in range(runs):\n",
    "        x=np.zeros((I,n,d))\n",
    "        y=np.zeros((I,n))\n",
    "        betas=np.zeros((I,d))\n",
    "        R=np.zeros((I,n))\n",
    "        for i in range(I):\n",
    "            b=np.random.uniform(low=0,high=30,size=(d))\n",
    "            a=np.random.uniform(low=-30,high=0,size=(d))\n",
    "            for p in range(d):\n",
    "                x[i,:,p]=np.random.uniform(low=a[p],high=b[p],size=(n))\n",
    "            betas[i,:s]=np.random.uniform(low=-1,high=4,size=(s))\n",
    "            e=np.random.multivariate_normal(np.zeros(n),np.eye(n))\n",
    "            y[i,:]=x[i,:,:]@betas[i,:]+e\n",
    "            x[i,:,4]=betas[i,0]*y[i,:]+np.random.uniform(low=a[p],high=b[p],size=(n))\n",
    "\n",
    "      \n",
    "        plausibleS=main(x,y,b,l)\n",
    "        if not not plausibleS:\n",
    "            if tuple(set.intersection(*plausibleS))==(0,1):\n",
    "                success[o]+=1\n",
    "success=success/runs\n",
    "fig, ax = plt.subplots()\n",
    "for label in (ax.get_xticklabels() + ax.get_yticklabels()):\n",
    "\tlabel.set_fontsize(14)\n",
    "plt.plot(samples,success,linewidth=2.5)\n",
    "plt.xlabel('Sample Size',fontsize=14)\n",
    "plt.ylabel('Success Rate',fontsize=14)\n",
    "plt.savefig('andersIID.eps', format='eps')"
   ]
  },
  {
   "cell_type": "code",
   "execution_count": 4,
   "id": "f8ac1cf2",
   "metadata": {},
   "outputs": [
    {
     "ename": "ValueError",
     "evalue": "could not broadcast input array from shape (6,6) into shape (6,)",
     "output_type": "error",
     "traceback": [
      "\u001b[0;31m---------------------------------------------------------------------------\u001b[0m",
      "\u001b[0;31mValueError\u001b[0m                                Traceback (most recent call last)",
      "\u001b[0;32m/tmp/ipykernel_849/225125828.py\u001b[0m in \u001b[0;36m<module>\u001b[0;34m\u001b[0m\n\u001b[0;32m----> 1\u001b[0;31m \u001b[0mmain\u001b[0m\u001b[0;34m(\u001b[0m\u001b[0mx\u001b[0m\u001b[0;34m,\u001b[0m\u001b[0my\u001b[0m\u001b[0;34m,\u001b[0m\u001b[0mb\u001b[0m\u001b[0;34m,\u001b[0m\u001b[0ml\u001b[0m\u001b[0;34m)\u001b[0m\u001b[0;34m\u001b[0m\u001b[0;34m\u001b[0m\u001b[0m\n\u001b[0m",
      "\u001b[0;32m/mnt/c/Users/20214899/OneDrive - TU Eindhoven/Documents/Github/causal-local-linear/MainAlgo/Main_full.py\u001b[0m in \u001b[0;36mmain\u001b[0;34m(x, y, B, l)\u001b[0m\n\u001b[1;32m     20\u001b[0m                 \u001b[0mind\u001b[0m\u001b[0;34m=\u001b[0m\u001b[0mnp\u001b[0m\u001b[0;34m.\u001b[0m\u001b[0marray\u001b[0m\u001b[0;34m(\u001b[0m\u001b[0mind\u001b[0m\u001b[0;34m)\u001b[0m\u001b[0;34m\u001b[0m\u001b[0;34m\u001b[0m\u001b[0m\n\u001b[1;32m     21\u001b[0m                 \u001b[0mbeta_hat\u001b[0m\u001b[0;34m=\u001b[0m\u001b[0mnp\u001b[0m\u001b[0;34m.\u001b[0m\u001b[0mlinalg\u001b[0m\u001b[0;34m.\u001b[0m\u001b[0minv\u001b[0m\u001b[0;34m(\u001b[0m\u001b[0mx\u001b[0m\u001b[0;34m[\u001b[0m\u001b[0mi\u001b[0m\u001b[0;34m,\u001b[0m\u001b[0;34m:\u001b[0m\u001b[0;34m,\u001b[0m\u001b[0mind\u001b[0m\u001b[0;34m]\u001b[0m\u001b[0;34m@\u001b[0m\u001b[0mx\u001b[0m\u001b[0;34m[\u001b[0m\u001b[0mi\u001b[0m\u001b[0;34m,\u001b[0m\u001b[0;34m:\u001b[0m\u001b[0;34m,\u001b[0m\u001b[0mind\u001b[0m\u001b[0;34m]\u001b[0m\u001b[0;34m.\u001b[0m\u001b[0mT\u001b[0m\u001b[0;34m)\u001b[0m\u001b[0;34m\u001b[0m\u001b[0;34m\u001b[0m\u001b[0m\n\u001b[0;32m---> 22\u001b[0;31m                 \u001b[0mR\u001b[0m\u001b[0;34m[\u001b[0m\u001b[0mi\u001b[0m\u001b[0;34m,\u001b[0m\u001b[0;34m:\u001b[0m\u001b[0;34m]\u001b[0m\u001b[0;34m=\u001b[0m\u001b[0my\u001b[0m\u001b[0;34m[\u001b[0m\u001b[0mi\u001b[0m\u001b[0;34m,\u001b[0m\u001b[0;34m:\u001b[0m\u001b[0;34m]\u001b[0m\u001b[0;34m-\u001b[0m\u001b[0mx\u001b[0m\u001b[0;34m[\u001b[0m\u001b[0mi\u001b[0m\u001b[0;34m,\u001b[0m\u001b[0;34m:\u001b[0m\u001b[0;34m,\u001b[0m\u001b[0mind\u001b[0m\u001b[0;34m]\u001b[0m\u001b[0;34m.\u001b[0m\u001b[0mT\u001b[0m\u001b[0;34m@\u001b[0m\u001b[0mbeta_hat\u001b[0m\u001b[0;34m\u001b[0m\u001b[0;34m\u001b[0m\u001b[0m\n\u001b[0m\u001b[1;32m     23\u001b[0m         \u001b[0mdic\u001b[0m\u001b[0;34m[\u001b[0m\u001b[0mtuple\u001b[0m\u001b[0;34m(\u001b[0m\u001b[0mind\u001b[0m\u001b[0;34m)\u001b[0m\u001b[0;34m]\u001b[0m\u001b[0;34m=\u001b[0m\u001b[0mcopy\u001b[0m\u001b[0;34m.\u001b[0m\u001b[0mcopy\u001b[0m\u001b[0;34m(\u001b[0m\u001b[0mR\u001b[0m\u001b[0;34m)\u001b[0m\u001b[0;34m\u001b[0m\u001b[0;34m\u001b[0m\u001b[0m\n\u001b[1;32m     24\u001b[0m     \u001b[0mS_ini\u001b[0m\u001b[0;34m=\u001b[0m\u001b[0;34m[\u001b[0m\u001b[0;34m]\u001b[0m\u001b[0;34m\u001b[0m\u001b[0;34m\u001b[0m\u001b[0m\n",
      "\u001b[0;31mValueError\u001b[0m: could not broadcast input array from shape (6,6) into shape (6,)"
     ]
    }
   ],
   "source": [
    "main(x,y,b,l)"
   ]
  },
  {
   "cell_type": "code",
   "execution_count": 50,
   "id": "3f650148",
   "metadata": {},
   "outputs": [
    {
     "name": "stdout",
     "output_type": "stream",
     "text": [
      "Sample Size 1 of 4\n",
      "Sample Size 2 of 4\n",
      "Sample Size 3 of 4\n",
      "Sample Size 4 of 4\n"
     ]
    },
    {
     "data": {
      "image/png": "[encoded data removed]",
      "text/plain": [
       "<Figure size 432x288 with 1 Axes>"
      ]
     },
     "metadata": {
      "needs_background": "light"
     },
     "output_type": "display_data"
    }
   ],
   "source": [
    "### Here we use i.i.d data to create Figure 1a\n",
    "np.random.seed(0)\n",
    "d=5  #Dimensionality\n",
    "s=2  #Number of support entries\n",
    "samples=[6,7,8,9]  #Sample Sizes\n",
    "success=np.zeros(len(samples))\n",
    "runs=10\n",
    "l=5 # Number of intervals we combine for the statistics\n",
    "B=100 # Bootstrap runs\n",
    "I=20      #Number of Intervals \n",
    "lam=0   #Lambda\n",
    "a=[list(itertools.combinations(range(d), k)) for k in range(0,d)]\n",
    "subsets = [item for sublist in a for item in sublist]\n",
    "dic={}\n",
    "for o,n in enumerate(samples):\n",
    "    print('Sample Size',o+1,'of',len(samples))\n",
    "    for r in range(runs):\n",
    "        x=np.zeros((I,n,d))\n",
    "        y=np.zeros((I,n))\n",
    "        betas=np.zeros((I,d))\n",
    "        R=np.zeros((I,n))\n",
    "        for i in range(I):\n",
    "            b=np.random.uniform(low=0,high=30,size=(d))\n",
    "            a=np.random.uniform(low=-30,high=0,size=(d))\n",
    "            for p in range(d):\n",
    "                x[i,:,p]=np.random.uniform(low=a[p],high=b[p],size=(n))\n",
    "            betas[i,:s]=np.random.uniform(low=-1,high=4,size=(s))\n",
    "            e=np.random.multivariate_normal(np.zeros(n),np.eye(n))\n",
    "            y[i,:]=x[i,:,:]@betas[i,:]+e\n",
    "            x[i,:,4]=betas[i,0]*y[i,:]+np.random.uniform(low=a[p],high=b[p],size=(n))\n",
    "\n",
    "        for ind in subsets:\n",
    "            for i in range(I):\n",
    "                if len(ind)==0:\n",
    "                    R[i,:]=y[i,:]\n",
    "                else:\n",
    "                    ind=np.array(ind)\n",
    "                    beta_hat=np.linalg.inv(x[i,:,ind]@x[i,:,ind].T+lam*np.eye(len(ind)))@(x[i,:,ind])@y[i,:]\n",
    "                    R[i,:]=y[i,:]-x[i,:,ind].T@beta_hat\n",
    "            dic[tuple(ind)]=copy.copy(R)\n",
    "        S_ini=[]\n",
    "        for k in dic:\n",
    "            Res=dic[k]\n",
    "            pval=0\n",
    "            for b in range(B):\n",
    "                a=np.random.chisquare(n-len(k),I)\n",
    "                T=np.sum(Res**2,axis=1)\n",
    "#                 if np.min(T)/np.max(T)>np.min(a)/np.max(a):\n",
    "#                     pval+=1/B\n",
    "                T_b=np.sort(a,kind='mergesort')\n",
    "                T_data=np.sort(T,kind='mergesort')\n",
    "                if np.sum(T_data[:l])/np.sum(T_data[-l:])>np.sum(T_b[:l])/np.sum(T_b[-l:]):\n",
    "                    pval+=1/B\n",
    "            if pval>0.05:\n",
    "                S_ini.append(k)\n",
    "        plausibleS=[set(S_ini[k]) for k in range(len(S_ini))]\n",
    "        if not not plausibleS:\n",
    "            if tuple(set.intersection(*plausibleS))==(0,1):\n",
    "                success[o]+=1\n",
    "success=success/runs\n",
    "fig, ax = plt.subplots()\n",
    "for label in (ax.get_xticklabels() + ax.get_yticklabels()):\n",
    "\tlabel.set_fontsize(14)\n",
    "plt.plot(samples,success,linewidth=2.5)\n",
    "plt.xlabel('Sample Size',fontsize=14)\n",
    "plt.ylabel('Success Rate',fontsize=14)\n",
    "plt.savefig('andersIID.eps', format='eps')"
   ]
  },
  {
   "cell_type": "code",
   "execution_count": 29,
   "id": "14beb818",
   "metadata": {},
   "outputs": [
    {
     "name": "stdout",
     "output_type": "stream",
     "text": [
      "[-24.87365913  12.30231941]\n",
      "[ 0.8654511  11.79286162]\n"
     ]
    }
   ],
   "source": [
    "a=Res.flatten()\n",
    "print(a[:2])\n",
    "print(a[-2:])"
   ]
  },
  {
   "cell_type": "code",
   "execution_count": 6,
   "id": "0475bd22",
   "metadata": {},
   "outputs": [
    {
     "name": "stdout",
     "output_type": "stream",
     "text": [
      "Sample Size 1 of 8\n"
     ]
    },
    {
     "name": "stderr",
     "output_type": "stream",
     "text": [
      "/tmp/ipykernel_374/2822254326.py:41: UserWarning: p-value floored: true value smaller than 0.001\n",
      "  pval=scipy.stats.anderson_ksamp(Res)[2]\n",
      "/tmp/ipykernel_374/2822254326.py:41: UserWarning: p-value capped: true value larger than 0.25\n",
      "  pval=scipy.stats.anderson_ksamp(Res)[2]\n"
     ]
    },
    {
     "name": "stdout",
     "output_type": "stream",
     "text": [
      "Sample Size 2 of 8\n",
      "Sample Size 3 of 8\n",
      "Sample Size 4 of 8\n",
      "Sample Size 5 of 8\n",
      "Sample Size 6 of 8\n",
      "Sample Size 7 of 8\n",
      "Sample Size 8 of 8\n"
     ]
    },
    {
     "data": {
      "image/png": "[encoded data removed]",
      "text/plain": [
       "<Figure size 432x288 with 1 Axes>"
      ]
     },
     "metadata": {
      "needs_background": "light"
     },
     "output_type": "display_data"
    }
   ],
   "source": [
    "### Here we use i.i.d data to create Figure 1a\n",
    "np.random.seed(0)\n",
    "d=5  #Dimensionality\n",
    "s=2  #Number of support entries\n",
    "samples=[3,4,5,6,7,8,9,10]  #Sample Sizes\n",
    "success=np.zeros(len(samples))\n",
    "runs=10\n",
    "I=100      #Number of Intervals \n",
    "lam=0.01   #Lambda\n",
    "a=[list(itertools.combinations((0,1,2,3,4), k)) for k in range(0,d)]\n",
    "subsets = [item for sublist in a for item in sublist]\n",
    "dic={}\n",
    "for o,n in enumerate(samples):\n",
    "    print('Sample Size',o+1,'of',len(samples))\n",
    "    for r in range(runs):\n",
    "        x=np.zeros((I,n,d))\n",
    "        y=np.zeros((I,n))\n",
    "        betas=np.zeros((I,d))\n",
    "        R=np.zeros((I,n))\n",
    "        for i in range(I):\n",
    "            b=np.random.uniform(low=0,high=30,size=(d))\n",
    "            a=np.random.uniform(low=-30,high=0,size=(d))\n",
    "            for p in range(d):\n",
    "                x[i,:,p]=np.random.uniform(low=a[p],high=b[p],size=(n))\n",
    "            betas[i,:s]=np.random.uniform(low=-1,high=4,size=(s))\n",
    "            e=np.random.multivariate_normal(np.zeros(n),np.eye(n))\n",
    "            y[i,:]=x[i,:,:]@betas[i,:]+e\n",
    "\n",
    "        for ind in subsets:\n",
    "            for i in range(I):\n",
    "                if len(ind)==0:\n",
    "                    R[i,:]=y[i,:]\n",
    "                else:\n",
    "                    ind=np.array(ind)\n",
    "                    beta_hat=np.linalg.inv(x[i,:,ind]@x[i,:,ind].T+lam*np.eye(len(ind)))@(x[i,:,ind])@y[i,:]\n",
    "                    R[i,:]=y[i,:]-x[i,:,ind].T@beta_hat\n",
    "            dic[tuple(ind)]=copy.copy(R)\n",
    "        S_ini=[]\n",
    "        for k in dic:\n",
    "            Res=dic[k]\n",
    "            pval=scipy.stats.anderson_ksamp(Res)[2]\n",
    "            if pval>0.05:\n",
    "                S_ini.append(k)\n",
    "        plausibleS=[set(S_ini[k]) for k in range(len(S_ini))]\n",
    "        if not not plausibleS:\n",
    "            if tuple(set.intersection(*plausibleS))==(0,1):\n",
    "                success[o]+=1\n",
    "success=success/runs\n",
    "fig, ax = plt.subplots()\n",
    "for label in (ax.get_xticklabels() + ax.get_yticklabels()):\n",
    "\tlabel.set_fontsize(14)\n",
    "plt.plot(samples,success,linewidth=2.5)\n",
    "plt.xlabel('Sample Size',fontsize=14)\n",
    "plt.ylabel('Success Rate',fontsize=14)\n",
    "plt.savefig('andersIID.eps', format='eps')"
   ]
  }
 ],
 "metadata": {
  "kernelspec": {
   "display_name": "Python 3 (ipykernel)",
   "language": "python",
   "name": "python3"
  },
  "language_info": {
   "codemirror_mode": {
    "name": "ipython",
    "version": 3
   },
   "file_extension": ".py",
   "mimetype": "text/x-python",
   "name": "python",
   "nbconvert_exporter": "python",
   "pygments_lexer": "ipython3",
   "version": "3.8.10"
  }
 },
 "nbformat": 4,
 "nbformat_minor": 5
}
