{
 "cells": [
  {
   "cell_type": "code",
   "execution_count": 126,
   "id": "8ebc0d8b",
   "metadata": {},
   "outputs": [],
   "source": [
    "### Some initializations\n",
    "import numpy as np\n",
    "import math\n",
    "import random\n",
    "import copy\n",
    "import matplotlib.pyplot as plt\n",
    "import scipy\n",
    "import scipy.stats\n",
    "import warnings\n",
    "import itertools\n",
    "from Main_full import main\n",
    "from heapq import nlargest\n",
    "from sklearn.cluster import KMeans"
   ]
  },
  {
   "cell_type": "code",
   "execution_count": null,
   "id": "87a97526",
   "metadata": {},
   "outputs": [],
   "source": []
  },
  {
   "cell_type": "code",
   "execution_count": 162,
   "id": "2f69ad93",
   "metadata": {},
   "outputs": [],
   "source": [
    "n=1000\n",
    "k=10\n",
    "X=np.random.normal(scale=2,size=[n,1])\n",
    "Y=2*X**2+np.random.normal(scale=0.6,size=[n,1])\n",
    "kmeans = KMeans(n_clusters=k, random_state=0).fit(X)\n",
    "\n",
    "x=[]\n",
    "y=[]\n",
    "# create the KMeans object with k clusters and fit the data X\n",
    "kmeans = KMeans(n_clusters=k, random_state=0).fit(X)\n",
    "for c in range(k):\n",
    "    cluster_indices = np.where(kmeans.labels_ == c)[0]\n",
    "    x.append(X[cluster_indices])\n",
    "    y.append(Y[cluster_indices])\n",
    "# retrieve the data points from X that belong to cluster label k\n",
    "# Xc = X[cluster_indices]\n",
    "# Yc=Y[cluster_indices]\n",
    "# b=np.linalg.inv(Xc.T@Xc)@Xc.T@Yc\n",
    "# res=Yc-b*Xc\n",
    "# B=100\n",
    "# l=5\n",
    "# plt.scatter(Xc,res)"
   ]
  },
  {
   "cell_type": "code",
   "execution_count": 159,
   "id": "63ee99ba",
   "metadata": {
    "scrolled": true
   },
   "outputs": [],
   "source": [
    "R=dic[()]"
   ]
  },
  {
   "cell_type": "code",
   "execution_count": 163,
   "id": "ade9d645",
   "metadata": {},
   "outputs": [
    {
     "name": "stdout",
     "output_type": "stream",
     "text": [
      "()\n",
      "0\n",
      "(0,)\n",
      "0\n",
      "[]\n"
     ]
    }
   ],
   "source": [
    "E=len(x)\n",
    "l=2\n",
    "n,d=x[0].shape\n",
    "temp=[list(itertools.combinations(range(d), k)) for k in range(0,d+1)]\n",
    "subsets = [item for sublist in temp for item in sublist]\n",
    "dic={}\n",
    "for ind in subsets:\n",
    "    R=[]\n",
    "    for i in range(E):\n",
    "        n,d=x[i].shape\n",
    "        if len(ind)==0:\n",
    "            R.append(y[i])\n",
    "        else:\n",
    "            xtemp=x[i][:,ind]\n",
    "            ind=np.array(ind)\n",
    "            beta_hat=np.linalg.inv(xtemp.T@xtemp)@(xtemp.T)@y[i]\n",
    "            R.append(y[i]-xtemp@beta_hat)\n",
    "    dic[tuple(ind)]=copy.copy(R)\n",
    "S_ini=[]\n",
    "for k in dic:\n",
    "    Res=dic[k]\n",
    "    pval=0\n",
    "    n=len(Res)\n",
    "    for b in range(B):\n",
    "        a=np.random.chisquare(n-len(k),E)\n",
    "        T=[np.sum(r**2) for r in Res]\n",
    "#                 if np.min(T)/np.max(T)>np.min(a)/np.max(a):\n",
    "#                     pval+=1/B\n",
    "        T_b=np.sort(a,kind='mergesort')\n",
    "        T_data=np.sort(T,kind='mergesort')\n",
    "        if np.sum(T_data[:l])/np.sum(T_data[-l:])>np.sum(T_b[:l])/np.sum(T_b[-l:]):\n",
    "            pval+=1/B\n",
    "    print(k)\n",
    "    print(pval)\n",
    "    if pval>0.05:\n",
    "        S_ini.append(k)\n",
    "print([set(S_ini[k]) for k in range(len(S_ini))])"
   ]
  },
  {
   "cell_type": "code",
   "execution_count": 111,
   "id": "5c682595",
   "metadata": {},
   "outputs": [
    {
     "data": {
      "text/plain": [
       "<matplotlib.collections.PathCollection at 0x7ffc6b3851c0>"
      ]
     },
     "execution_count": 111,
     "metadata": {},
     "output_type": "execute_result"
    },
    {
     "data": {
      "image/png": "[encoded data removed]",
      "text/plain": [
       "<Figure size 432x288 with 1 Axes>"
      ]
     },
     "metadata": {
      "needs_background": "light"
     },
     "output_type": "display_data"
    }
   ],
   "source": [
    "Xc = x[30]\n",
    "Yc=y[30]\n",
    "b=np.linalg.inv(Xc.T@Xc)@Xc.T@Yc\n",
    "res=Yc-b*Xc\n",
    "plt.scatter(Xc,res)"
   ]
  },
  {
   "cell_type": "code",
   "execution_count": 125,
   "id": "e6a0604f",
   "metadata": {},
   "outputs": [
    {
     "name": "stdout",
     "output_type": "stream",
     "text": [
      "Sample Size 1 of 4\n",
      "Sample Size 2 of 4\n",
      "Sample Size 3 of 4\n",
      "Sample Size 4 of 4\n"
     ]
    },
    {
     "data": {
      "image/png": "[encoded data removed]",
      "text/plain": [
       "<Figure size 432x288 with 1 Axes>"
      ]
     },
     "metadata": {
      "needs_background": "light"
     },
     "output_type": "display_data"
    }
   ],
   "source": [
    "### Here we use i.i.d data to create Figure 1a\n",
    "np.random.seed(0)\n",
    "d=5  #Dimensionality\n",
    "s=2  #Number of support entries\n",
    "samples=[6,7,8,9]  #Sample Sizes\n",
    "success=np.zeros(len(samples))\n",
    "runs=10\n",
    "l=5 # Number of intervals we combine for the statistics\n",
    "B=100 # Bootstrap runs\n",
    "I=20      #Number of Intervals \n",
    "lam=0   #Lambda\n",
    "a=[list(itertools.combinations(range(d), k)) for k in range(0,d)]\n",
    "subsets = [item for sublist in a for item in sublist]\n",
    "dic={}\n",
    "for o,n in enumerate(samples):\n",
    "    print('Sample Size',o+1,'of',len(samples))\n",
    "    for r in range(runs):\n",
    "        x=np.zeros((I,n,d))\n",
    "        y=np.zeros((I,n))\n",
    "        betas=np.zeros((I,d))\n",
    "        R=np.zeros((I,n))\n",
    "        for i in range(I):\n",
    "            b=np.random.uniform(low=0,high=30,size=(d))\n",
    "            a=np.random.uniform(low=-30,high=0,size=(d))\n",
    "            for p in range(d):\n",
    "                x[i,:,p]=np.random.uniform(low=a[p],high=b[p],size=(n))\n",
    "            betas[i,:s]=np.random.uniform(low=-1,high=4,size=(s))\n",
    "#             e=np.random.multivariate_normal(np.zeros(n),np.eye(n))\n",
    "            e=np.random.uniform(low=-0.5,high=0.5,size=(n))\n",
    "            y[i,:]=x[i,:,:]@betas[i,:]+e\n",
    "            x[i,:,4]=betas[i,0]*y[i,:]+np.random.uniform(low=a[p],high=b[p],size=(n))\n",
    "\n",
    "      \n",
    "        plausibleS=main(x,y,B,l)\n",
    "        if not not plausibleS:\n",
    "            if tuple(set.intersection(*plausibleS))==(0,1):\n",
    "                success[o]+=1\n",
    "success=success/runs\n",
    "fig, ax = plt.subplots()\n",
    "for label in (ax.get_xticklabels() + ax.get_yticklabels()):\n",
    "\tlabel.set_fontsize(14)\n",
    "plt.plot(samples,success,linewidth=2.5)\n",
    "plt.xlabel('Sample Size',fontsize=14)\n",
    "plt.ylabel('Success Rate',fontsize=14)\n",
    "plt.savefig('andersIID.eps', format='eps')"
   ]
  },
  {
   "cell_type": "code",
   "execution_count": 124,
   "id": "6eb5ff58",
   "metadata": {},
   "outputs": [
    {
     "data": {
      "text/plain": [
       "(6,)"
      ]
     },
     "execution_count": 124,
     "metadata": {},
     "output_type": "execute_result"
    }
   ],
   "source": [
    "e=np.random.multivariate_normal(np.zeros(n),np.eye(n))\n",
    "# e=np.random.uniform(low=-0.5,high=0.5,size=(n,1))\n",
    "e.shape"
   ]
  },
  {
   "cell_type": "code",
   "execution_count": null,
   "id": "3f650148",
   "metadata": {},
   "outputs": [],
   "source": [
    "### Here we use i.i.d data to create Figure 1a\n",
    "np.random.seed(0)\n",
    "d=5  #Dimensionality\n",
    "s=2  #Number of support entries\n",
    "samples=[6,7,8,9]  #Sample Sizes\n",
    "success=np.zeros(len(samples))\n",
    "runs=10\n",
    "l=5 # Number of intervals we combine for the statistics\n",
    "B=100 # Bootstrap runs\n",
    "I=20      #Number of Intervals \n",
    "lam=0   #Lambda\n",
    "a=[list(itertools.combinations(range(d), k)) for k in range(0,d)]\n",
    "subsets = [item for sublist in a for item in sublist]\n",
    "dic={}\n",
    "for o,n in enumerate(samples):\n",
    "    print('Sample Size',o+1,'of',len(samples))\n",
    "    for r in range(runs):\n",
    "        x=np.zeros((I,n,d))\n",
    "        y=np.zeros((I,n))\n",
    "        betas=np.zeros((I,d))\n",
    "        R=np.zeros((I,n))\n",
    "        for i in range(I):\n",
    "            b=np.random.uniform(low=0,high=30,size=(d))\n",
    "            a=np.random.uniform(low=-30,high=0,size=(d))\n",
    "            for p in range(d):\n",
    "                x[i,:,p]=np.random.uniform(low=a[p],high=b[p],size=(n))\n",
    "            betas[i,:s]=np.random.uniform(low=-1,high=4,size=(s))\n",
    "            e=np.random.multivariate_normal(np.zeros(n),np.eye(n))\n",
    "            y[i,:]=x[i,:,:]@betas[i,:]+e\n",
    "            x[i,:,4]=betas[i,0]*y[i,:]+np.random.uniform(low=a[p],high=b[p],size=(n))\n",
    "\n",
    "        for ind in subsets:\n",
    "            for i in range(I):\n",
    "                if len(ind)==0:\n",
    "                    R[i,:]=y[i,:]\n",
    "                else:\n",
    "                    ind=np.array(ind)\n",
    "                    beta_hat=np.linalg.inv(x[i,:,ind]@x[i,:,ind].T+lam*np.eye(len(ind)))@(x[i,:,ind])@y[i,:]\n",
    "                    R[i,:]=y[i,:]-x[i,:,ind].T@beta_hat\n",
    "            dic[tuple(ind)]=copy.copy(R)\n",
    "        S_ini=[]\n",
    "        for k in dic:\n",
    "            Res=dic[k]\n",
    "            pval=0\n",
    "            for b in range(B):\n",
    "                a=np.random.chisquare(n-len(k),I)\n",
    "                T=np.sum(Res**2,axis=1)\n",
    "#                 if np.min(T)/np.max(T)>np.min(a)/np.max(a):\n",
    "#                     pval+=1/B\n",
    "                T_b=np.sort(a,kind='mergesort')\n",
    "                T_data=np.sort(T,kind='mergesort')\n",
    "                if np.sum(T_data[:l])/np.sum(T_data[-l:])>np.sum(T_b[:l])/np.sum(T_b[-l:]):\n",
    "                    pval+=1/B\n",
    "            if pval>0.05:\n",
    "                S_ini.append(k)\n",
    "        plausibleS=[set(S_ini[k]) for k in range(len(S_ini))]\n",
    "        if not not plausibleS:\n",
    "            if tuple(set.intersection(*plausibleS))==(0,1):\n",
    "                success[o]+=1\n",
    "success=success/runs\n",
    "fig, ax = plt.subplots()\n",
    "for label in (ax.get_xticklabels() + ax.get_yticklabels()):\n",
    "\tlabel.set_fontsize(14)\n",
    "plt.plot(samples,success,linewidth=2.5)\n",
    "plt.xlabel('Sample Size',fontsize=14)\n",
    "plt.ylabel('Success Rate',fontsize=14)\n",
    "plt.savefig('andersIID.eps', format='eps')"
   ]
  },
  {
   "cell_type": "code",
   "execution_count": null,
   "id": "14beb818",
   "metadata": {},
   "outputs": [],
   "source": [
    "a=Res.flatten()\n",
    "print(a[:2])\n",
    "print(a[-2:])"
   ]
  },
  {
   "cell_type": "code",
   "execution_count": null,
   "id": "0475bd22",
   "metadata": {},
   "outputs": [],
   "source": [
    "### Here we use i.i.d data to create Figure 1a\n",
    "np.random.seed(0)\n",
    "d=5  #Dimensionality\n",
    "s=2  #Number of support entries\n",
    "samples=[3,4,5,6,7,8,9,10]  #Sample Sizes\n",
    "success=np.zeros(len(samples))\n",
    "runs=10\n",
    "I=100      #Number of Intervals \n",
    "lam=0.01   #Lambda\n",
    "a=[list(itertools.combinations((0,1,2,3,4), k)) for k in range(0,d)]\n",
    "subsets = [item for sublist in a for item in sublist]\n",
    "dic={}\n",
    "for o,n in enumerate(samples):\n",
    "    print('Sample Size',o+1,'of',len(samples))\n",
    "    for r in range(runs):\n",
    "        x=np.zeros((I,n,d))\n",
    "        y=np.zeros((I,n))\n",
    "        betas=np.zeros((I,d))\n",
    "        R=np.zeros((I,n))\n",
    "        for i in range(I):\n",
    "            b=np.random.uniform(low=0,high=30,size=(d))\n",
    "            a=np.random.uniform(low=-30,high=0,size=(d))\n",
    "            for p in range(d):\n",
    "                x[i,:,p]=np.random.uniform(low=a[p],high=b[p],size=(n))\n",
    "            betas[i,:s]=np.random.uniform(low=-1,high=4,size=(s))\n",
    "            e=np.random.multivariate_normal(np.zeros(n),np.eye(n))\n",
    "            y[i,:]=x[i,:,:]@betas[i,:]+e\n",
    "\n",
    "        for ind in subsets:\n",
    "            for i in range(I):\n",
    "                if len(ind)==0:\n",
    "                    R[i,:]=y[i,:]\n",
    "                else:\n",
    "                    ind=np.array(ind)\n",
    "                    beta_hat=np.linalg.inv(x[i,:,ind]@x[i,:,ind].T+lam*np.eye(len(ind)))@(x[i,:,ind])@y[i,:]\n",
    "                    R[i,:]=y[i,:]-x[i,:,ind].T@beta_hat\n",
    "            dic[tuple(ind)]=copy.copy(R)\n",
    "        S_ini=[]\n",
    "        for k in dic:\n",
    "            Res=dic[k]\n",
    "            pval=scipy.stats.anderson_ksamp(Res)[2]\n",
    "            if pval>0.05:\n",
    "                S_ini.append(k)\n",
    "        plausibleS=[set(S_ini[k]) for k in range(len(S_ini))]\n",
    "        if not not plausibleS:\n",
    "            if tuple(set.intersection(*plausibleS))==(0,1):\n",
    "                success[o]+=1\n",
    "success=success/runs\n",
    "fig, ax = plt.subplots()\n",
    "for label in (ax.get_xticklabels() + ax.get_yticklabels()):\n",
    "\tlabel.set_fontsize(14)\n",
    "plt.plot(samples,success,linewidth=2.5)\n",
    "plt.xlabel('Sample Size',fontsize=14)\n",
    "plt.ylabel('Success Rate',fontsize=14)\n",
    "plt.savefig('andersIID.eps', format='eps')"
   ]
  }
 ],
 "metadata": {
  "kernelspec": {
   "display_name": "Python 3 (ipykernel)",
   "language": "python",
   "name": "python3"
  },
  "language_info": {
   "codemirror_mode": {
    "name": "ipython",
    "version": 3
   },
   "file_extension": ".py",
   "mimetype": "text/x-python",
   "name": "python",
   "nbconvert_exporter": "python",
   "pygments_lexer": "ipython3",
   "version": "3.8.10"
  }
 },
 "nbformat": 4,
 "nbformat_minor": 5
}
