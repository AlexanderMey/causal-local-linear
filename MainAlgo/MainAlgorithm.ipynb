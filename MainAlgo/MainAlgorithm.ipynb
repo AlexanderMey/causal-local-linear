{
 "cells": [
  {
   "cell_type": "code",
   "execution_count": 1,
   "id": "8ebc0d8b",
   "metadata": {},
   "outputs": [],
   "source": [
    "### Some initializations\n",
    "import numpy as np\n",
    "import math\n",
    "import random\n",
    "import copy\n",
    "import matplotlib.pyplot as plt\n",
    "import scipy\n",
    "import scipy.stats\n",
    "import warnings\n",
    "import itertools\n",
    "from Main_full import main\n",
    "from heapq import nlargest\n",
    "from sklearn.cluster import KMeans"
   ]
  },
  {
   "cell_type": "code",
   "execution_count": 3,
   "id": "26f6a950",
   "metadata": {},
   "outputs": [],
   "source": [
    "def main_gauss(x,y,B,l):\n",
    "    E=len(x)\n",
    "    n,d=x[0].shape\n",
    "    temp=[list(itertools.combinations(range(d), k)) for k in range(0,d)]\n",
    "    subsets = [item for sublist in temp for item in sublist]\n",
    "    dic={}\n",
    "    S_ini=[]\n",
    "    for ind in subsets:\n",
    "        ind=np.array(ind)\n",
    "        Res=np.zeros(E)\n",
    "        T_mc=np.zeros((E,B))\n",
    "        for i in range(E):\n",
    "            n,d=x[i].shape\n",
    "            if len(ind)==0:\n",
    "                Res[i]=np.sum((y[i]-np.mean(y[i]))**2)\n",
    "#                 Res[i]=np.sum((y[i])**2)\n",
    "            else:\n",
    "#                 xtemp=x[i][:,ind]\n",
    "                xtemp=copy.copy(x[i][:,ind])\n",
    "                xtemp=np.concatenate((xtemp,np.ones((n,1))),axis=1)\n",
    "                beta_hat=np.linalg.inv(xtemp.T@xtemp)@(xtemp.T)@y[i]\n",
    "                Res[i]=np.sum((y[i]-xtemp@beta_hat)**2)\n",
    "                T_mc[i,:]=(np.random.chisquare(n-len(ind),B))\n",
    "        T_b=np.sort(T_mc,kind='mergesort',axis=0)\n",
    "        T_data=np.sort(Res,kind='mergesort')\n",
    "        pval=1/B*np.sum(np.sum(T_data[:l])*np.sum(T_b[-l:,:],axis=0)>np.sum(T_b[:l,:],axis=0)*np.sum(T_data[-l:]))\n",
    "#         print(ind)\n",
    "#         print(pval)\n",
    "        if pval>0.05:\n",
    "            S_ini.append(ind)\n",
    "    return [set(S_ini[k]) for k in range(len(S_ini))]"
   ]
  },
  {
   "cell_type": "code",
   "execution_count": 4,
   "id": "99ef7653",
   "metadata": {},
   "outputs": [
    {
     "name": "stdout",
     "output_type": "stream",
     "text": [
      "Noise to singal ratio 1 of 7\n"
     ]
    },
    {
     "ename": "NameError",
     "evalue": "name 'success' is not defined",
     "output_type": "error",
     "traceback": [
      "\u001b[1;31m---------------------------------------------------------------------------\u001b[0m",
      "\u001b[1;31mNameError\u001b[0m                                 Traceback (most recent call last)",
      "\u001b[1;32m~\\AppData\\Local\\Temp\\ipykernel_22784\\1930241546.py\u001b[0m in \u001b[0;36m<module>\u001b[1;34m\u001b[0m\n\u001b[0;32m     47\u001b[0m             \u001b[1;32mif\u001b[0m \u001b[1;32mnot\u001b[0m \u001b[1;32mnot\u001b[0m \u001b[0mplausibleS\u001b[0m\u001b[1;33m:\u001b[0m\u001b[1;33m\u001b[0m\u001b[1;33m\u001b[0m\u001b[0m\n\u001b[0;32m     48\u001b[0m                 \u001b[1;32mif\u001b[0m \u001b[0mtuple\u001b[0m\u001b[1;33m(\u001b[0m\u001b[0mset\u001b[0m\u001b[1;33m.\u001b[0m\u001b[0mintersection\u001b[0m\u001b[1;33m(\u001b[0m\u001b[1;33m*\u001b[0m\u001b[0mplausibleS\u001b[0m\u001b[1;33m)\u001b[0m\u001b[1;33m)\u001b[0m\u001b[1;33m==\u001b[0m\u001b[0msupp\u001b[0m\u001b[1;33m:\u001b[0m\u001b[1;33m\u001b[0m\u001b[1;33m\u001b[0m\u001b[0m\n\u001b[1;32m---> 49\u001b[1;33m                     \u001b[0msuccess\u001b[0m\u001b[1;33m[\u001b[0m\u001b[0mo\u001b[0m\u001b[1;33m,\u001b[0m\u001b[0mp\u001b[0m\u001b[1;33m]\u001b[0m\u001b[1;33m+=\u001b[0m\u001b[1;36m1\u001b[0m\u001b[1;33m\u001b[0m\u001b[1;33m\u001b[0m\u001b[0m\n\u001b[0m\u001b[0;32m     50\u001b[0m \u001b[0msuccess\u001b[0m\u001b[1;33m=\u001b[0m\u001b[0msuccess\u001b[0m\u001b[1;33m/\u001b[0m\u001b[0mruns\u001b[0m\u001b[1;33m\u001b[0m\u001b[1;33m\u001b[0m\u001b[0m\n\u001b[0;32m     51\u001b[0m \u001b[0mfig\u001b[0m\u001b[1;33m,\u001b[0m \u001b[0max\u001b[0m \u001b[1;33m=\u001b[0m \u001b[0mplt\u001b[0m\u001b[1;33m.\u001b[0m\u001b[0msubplots\u001b[0m\u001b[1;33m(\u001b[0m\u001b[1;33m)\u001b[0m\u001b[1;33m\u001b[0m\u001b[1;33m\u001b[0m\u001b[0m\n",
      "\u001b[1;31mNameError\u001b[0m: name 'success' is not defined"
     ]
    }
   ],
   "source": [
    "### First test, noise to signal ratio\n",
    "np.random.seed(0)\n",
    "d=5  #Dimensionality\n",
    "supp=(0,1) #support indices\n",
    "s=len(supp)  #Number of support entries\n",
    "noisetosignal=[0.001,0.01,0.1,0.5,2,5,10]  #Sample Sizes\n",
    "signal=[0.01,0.1,0.5,1,2,5]\n",
    "fn=np.zeros((len(noisetosignal),len(signal)))\n",
    "fp=np.zeros((len(noisetosignal),len(signal)))\n",
    "runs=10\n",
    "n=50 # Sample size\n",
    "l=1 # Number of intervals we combine for the statistics\n",
    "B=100 # Bootstrap runs\n",
    "I=30      #Number of Intervals \n",
    "a=[list(itertools.combinations(range(d), k)) for k in range(0,d+1)]\n",
    "subsets = [item for sublist in a for item in sublist]\n",
    "dic={}\n",
    "# We first fix the data for all runs, to eliminate the randomness of this.\n",
    "X=[]\n",
    "Y=[]\n",
    "for r in range(runs):\n",
    "    betas=np.zeros((I,d))\n",
    "    X.append([])\n",
    "    Y.append([])\n",
    "    for i in range(I):\n",
    "        x=np.zeros((n,d))\n",
    "        y=np.zeros((n))\n",
    "        a=np.random.uniform(low=1,high=5,size=(d))\n",
    "#         b=np.random.uniform(low=-30,high=0,size=(d))\n",
    "        for p in range(d):\n",
    "            x[:,p]=np.random.normal(scale=a[p],size=(n))\n",
    "        betas[i,:s]=np.random.uniform(low=1,high=5,size=(s))\n",
    "        X[r].append(x)\n",
    "        Y[r].append(y)\n",
    "\n",
    "for o,nts in enumerate(noisetosignal):\n",
    "    print('Noise to singal ratio',o+1,'of',len(noisetosignal))\n",
    "    for p,sig in enumerate(signal):\n",
    "        noise=nts/sig\n",
    "        for r in range(runs):\n",
    "            for i in range(I):\n",
    "                e=np.random.multivariate_normal(0*np.ones(n),noise*np.eye(n))\n",
    "                Y[r][i]=X[r][i]@(sig*betas[i,:])+e\n",
    "\n",
    "\n",
    "            plausibleS=main_gauss(X[r],Y[r],B,l)\n",
    "            if not not plausibleS:\n",
    "                if tuple(set.intersection(*plausibleS))==supp:\n",
    "                    success[o,p]+=1\n",
    "success=success/runs\n",
    "fig, ax = plt.subplots()\n",
    "for label in (ax.get_xticklabels() + ax.get_yticklabels()):\n",
    "\tlabel.set_fontsize(14)\n",
    "plt.scatter(noisetosignal,np.mean(success,axis=1))\n",
    "plt.xlabel('Sample Size',fontsize=14)\n",
    "plt.ylabel('Success Rate',fontsize=14)\n",
    "plt.savefig('andersIID.eps', format='eps')"
   ]
  },
  {
   "cell_type": "code",
   "execution_count": 117,
   "id": "e6a0604f",
   "metadata": {
    "scrolled": false
   },
   "outputs": [
    {
     "name": "stdout",
     "output_type": "stream",
     "text": [
      "Sample Size 1 of 3\n",
      "Sample Size 2 of 3\n",
      "Sample Size 3 of 3\n"
     ]
    },
    {
     "data": {
      "image/png": "[encoded data removed]",
      "text/plain": [
       "<Figure size 432x288 with 1 Axes>"
      ]
     },
     "metadata": {
      "needs_background": "light"
     },
     "output_type": "display_data"
    }
   ],
   "source": [
    "### First test, noise to signal ratio\n",
    "# np.random.seed(0)\n",
    "d=5  #Dimensionality\n",
    "supp=(0,1) #support indices\n",
    "s=len(supp)  #Number of support entries\n",
    "samples=[8,10,20]  #Sample Sizes\n",
    "success=np.zeros(len(samples))\n",
    "runs=10\n",
    "l=1 # Number of intervals we combine for the statistics\n",
    "B=100 # Bootstrap runs\n",
    "I=30      #Number of Intervals \n",
    "a=[list(itertools.combinations(range(d), k)) for k in range(0,d)]\n",
    "subsets = [item for sublist in a for item in sublist]\n",
    "dic={}\n",
    "for o,n1 in enumerate(samples):\n",
    "    print('Sample Size',o+1,'of',len(samples))\n",
    "    for r in range(runs):\n",
    "        betas=np.zeros((I,d))\n",
    "        X=[]\n",
    "        Y=[]\n",
    "        for i in range(I):\n",
    "            n=np.random.randint(n1,n1+20)\n",
    "            x=np.zeros((n,d))\n",
    "            y=np.zeros((n))\n",
    "            b=np.random.uniform(low=0,high=30,size=(d))\n",
    "            a=np.random.uniform(low=-30,high=0,size=(d))\n",
    "            for p in range(d):\n",
    "                x[:,p]=np.random.uniform(low=a[p],high=b[p],size=(n))\n",
    "            betas[i,:s]=np.random.uniform(low=-1,high=4,size=(s))\n",
    "            e=np.random.multivariate_normal(1*np.ones(n),np.eye(n))\n",
    "#             e=np.random.uniform(low=-0.5,high=0.5,size=(n))\n",
    "            y[:]=x[:,:]@betas[i,:]+e\n",
    "            x[:,4]=betas[i,0]*y[:]+np.random.uniform(low=a[p],high=b[p],size=(n))\n",
    "            X.append(x)\n",
    "            Y.append(y)\n",
    "\n",
    "      \n",
    "        plausibleS=main_gauss(X,Y,B,l)\n",
    "        if not not plausibleS:\n",
    "            if tuple(set.intersection(*plausibleS))==supp:\n",
    "                success[o]+=1\n",
    "success=success/runs\n",
    "fig, ax = plt.subplots()\n",
    "for label in (ax.get_xticklabels() + ax.get_yticklabels()):\n",
    "\tlabel.set_fontsize(14)\n",
    "plt.plot(samples,success,linewidth=2.5)\n",
    "plt.xlabel('Sample Size',fontsize=14)\n",
    "plt.ylabel('Success Rate',fontsize=14)\n",
    "plt.savefig('andersIID.eps', format='eps')"
   ]
  },
  {
   "cell_type": "code",
   "execution_count": 17,
   "id": "b493603b",
   "metadata": {},
   "outputs": [],
   "source": [
    "def shuffle(x,B):\n",
    "    E=len(x)\n",
    "    x_shuffle=[]\n",
    "    for e in range(E):\n",
    "        n,d=x[e].shape\n",
    "        x_temp=np.zeros((B,n,d))\n",
    "        for b in range(B):\n",
    "            for i in range(d):\n",
    "                c=(x[e][:,i].T).flatten()\n",
    "                np.random.shuffle(c)\n",
    "                x_temp[b,:,i]=c\n",
    "        x_shuffle.append(x_temp)\n",
    "        \n",
    "    return x_shuffle\n",
    "    "
   ]
  },
  {
   "cell_type": "code",
   "execution_count": 128,
   "id": "989f3590",
   "metadata": {},
   "outputs": [],
   "source": [
    "def main_noassumption(x,y,B,l):\n",
    "    S1=[0,1,2,3,4]\n",
    "    E=len(x)\n",
    "    lam=0\n",
    "    n,d=x[0].shape\n",
    "    temp=[list(itertools.combinations(range(d), k)) for k in range(0,d)]\n",
    "    subsets = [item for sublist in temp for item in sublist]\n",
    "    dic={}\n",
    "    S_ini=[]\n",
    "    x_shuffle=shuffle(x,B)\n",
    "    for ind in subsets:\n",
    "        Res=np.zeros((E,B))\n",
    "        T_mc=np.zeros((E,B))\n",
    "        for i in range(E):\n",
    "            n,d=x[i].shape\n",
    "            if len(ind)==0:\n",
    "#                 Res[i]=np.sum((y[i]-np.mean(y[i]))**2)\n",
    "                Res[i]=np.sum((y[i])**2)\n",
    "            else:\n",
    "                comp=list(set(S1)-set(ind))\n",
    "                xtemp=copy.copy(x[i])\n",
    "                for b in range(B):\n",
    "                    xtemp[:,comp]=(x_shuffle[i][b,:,comp]).T\n",
    "                    beta_hat=np.linalg.inv(xtemp.T@xtemp+lam*np.eye(d))@(xtemp.T)@y[i]\n",
    "                    Res[i,b]=np.sum((y[i]-xtemp@beta_hat)**2)\n",
    "#         T_data=np.var(Res,axis=0)\n",
    "        T_data=100*np.min(Res,axis=0)/np.max(Res,axis=0)\n",
    "        print(ind)\n",
    "        print(np.median(T_data),np.mean(T_data),np.std(T_data))\n",
    "#         if something:\n",
    "#             S_ini.append(ind)\n",
    "    return [set(S_ini[k]) for k in range(len(S_ini))]"
   ]
  },
  {
   "cell_type": "code",
   "execution_count": 202,
   "id": "76d0c528",
   "metadata": {},
   "outputs": [
    {
     "name": "stdout",
     "output_type": "stream",
     "text": [
      "0.03400000000000002\n"
     ]
    }
   ],
   "source": [
    "mc=1000\n",
    "k=4\n",
    "E=100000\n",
    "p=0\n",
    "for i in range(mc):\n",
    "    a=np.random.chisquare(k,E)\n",
    "    b=np.random.chisquare(k,E)\n",
    "    \n",
    "    if np.max((np.min(a),1))/np.max(a)<0.8*np.max((np.min(b),1))/np.max(b):\n",
    "        p+=1/mc\n",
    "print(p)\n",
    "    "
   ]
  },
  {
   "cell_type": "code",
   "execution_count": 197,
   "id": "8f3ddf5d",
   "metadata": {},
   "outputs": [
    {
     "data": {
      "text/plain": [
       "1.15948761569696"
      ]
     },
     "execution_count": 197,
     "metadata": {},
     "output_type": "execute_result"
    }
   ],
   "source": [
    "np.max((np.min(a),0.1))"
   ]
  },
  {
   "cell_type": "code",
   "execution_count": 162,
   "id": "3b0a5f3f",
   "metadata": {},
   "outputs": [],
   "source": [
    "n=1000\n",
    "k=10\n",
    "X=np.random.normal(scale=2,size=[n,1])\n",
    "Y=2*X**2+np.random.normal(scale=0.6,size=[n,1])\n",
    "kmeans = KMeans(n_clusters=k, random_state=0).fit(X)\n",
    "\n",
    "x=[]\n",
    "y=[]\n",
    "# create the KMeans object with k clusters and fit the data X\n",
    "kmeans = KMeans(n_clusters=k, random_state=0).fit(X)\n",
    "for c in range(k):\n",
    "    cluster_indices = np.where(kmeans.labels_ == c)[0]\n",
    "    x.append(X[cluster_indices])\n",
    "    y.append(Y[cluster_indices])\n",
    "# retrieve the data points from X that belong to cluster label k\n",
    "# Xc = X[cluster_indices]\n",
    "# Yc=Y[cluster_indices]\n",
    "# b=np.linalg.inv(Xc.T@Xc)@Xc.T@Yc\n",
    "# res=Yc-b*Xc\n",
    "# B=100\n",
    "# l=5\n",
    "# plt.scatter(Xc,res)"
   ]
  },
  {
   "cell_type": "code",
   "execution_count": 215,
   "id": "ee3da104",
   "metadata": {
    "scrolled": true
   },
   "outputs": [
    {
     "data": {
      "text/plain": [
       "array([[5.42385286, 0.        ],\n",
       "       [4.74318517, 0.        ],\n",
       "       [4.86946387, 0.        ],\n",
       "       [5.34522992, 0.        ],\n",
       "       [5.62095453, 0.        ],\n",
       "       [4.3993544 , 0.        ],\n",
       "       [4.30564592, 0.        ],\n",
       "       [4.35750192, 0.        ],\n",
       "       [4.31998923, 0.        ],\n",
       "       [5.92559291, 0.        ],\n",
       "       [5.06697334, 0.        ],\n",
       "       [5.38086121, 0.        ],\n",
       "       [4.14253903, 0.        ]])"
      ]
     },
     "execution_count": 215,
     "metadata": {},
     "output_type": "execute_result"
    }
   ],
   "source": [
    "\n",
    "# xtemp=np.concatenate((xtemp,np.zeros((n,1))),axis=1)\n",
    "xtemp"
   ]
  },
  {
   "cell_type": "code",
   "execution_count": 218,
   "id": "57251128",
   "metadata": {},
   "outputs": [
    {
     "name": "stdout",
     "output_type": "stream",
     "text": [
      "()\n",
      "0\n",
      "(0,)\n",
      "0.24000000000000007\n",
      "[{0}]\n"
     ]
    }
   ],
   "source": [
    "E=len(x)\n",
    "l=2\n",
    "n,d=x[0].shape\n",
    "temp=[list(itertools.combinations(range(d), k)) for k in range(0,d+1)]\n",
    "subsets = [item for sublist in temp for item in sublist]\n",
    "dic={}\n",
    "for ind in subsets:\n",
    "    R=[]\n",
    "    for i in range(E):\n",
    "        n,d=x[i].shape\n",
    "        if len(ind)==0:\n",
    "            R.append(y[i]-np.mean(y[i]))\n",
    "        else:\n",
    "            xtemp=x[i][:,ind]\n",
    "            xtemp=np.concatenate((xtemp,np.ones((n,1))),axis=1)\n",
    "            ind=np.array(ind)\n",
    "            beta_hat=np.linalg.inv(xtemp.T@xtemp)@(xtemp.T)@y[i]\n",
    "            R.append(y[i]-xtemp@beta_hat)\n",
    "    dic[tuple(ind)]=copy.copy(R)\n",
    "S_ini=[]\n",
    "for k in dic:\n",
    "    Res=dic[k]\n",
    "    pval=0\n",
    "    n=len(Res)\n",
    "    for b in range(B):\n",
    "        a=np.random.chisquare(n-len(k),E)\n",
    "        T=[np.sum(r**2) for r in Res]\n",
    "#                 if np.min(T)/np.max(T)>np.min(a)/np.max(a):\n",
    "#                     pval+=1/B\n",
    "        T_b=np.sort(a,kind='mergesort')\n",
    "        T_data=np.sort(T,kind='mergesort')\n",
    "        if np.sum(T_data[:l])/np.sum(T_data[-l:])>np.sum(T_b[:l])/np.sum(T_b[-l:]):\n",
    "            pval+=1/B\n",
    "    print(k)\n",
    "    print(pval)\n",
    "    if pval>0.05:\n",
    "        S_ini.append(k)\n",
    "print([set(S_ini[k]) for k in range(len(S_ini))])"
   ]
  },
  {
   "cell_type": "code",
   "execution_count": 111,
   "id": "118f3bea",
   "metadata": {},
   "outputs": [
    {
     "data": {
      "text/plain": [
       "<matplotlib.collections.PathCollection at 0x7ffc6b3851c0>"
      ]
     },
     "execution_count": 111,
     "metadata": {},
     "output_type": "execute_result"
    },
    {
     "data": {
      "image/png": "[encoded data removed]",
      "text/plain": [
       "<Figure size 432x288 with 1 Axes>"
      ]
     },
     "metadata": {
      "needs_background": "light"
     },
     "output_type": "display_data"
    }
   ],
   "source": [
    "Xc = x[30]\n",
    "Yc=y[30]\n",
    "b=np.linalg.inv(Xc.T@Xc)@Xc.T@Yc\n",
    "res=Yc-b*Xc\n",
    "plt.scatter(Xc,res)"
   ]
  },
  {
   "cell_type": "code",
   "execution_count": 124,
   "id": "6eb5ff58",
   "metadata": {},
   "outputs": [
    {
     "data": {
      "text/plain": [
       "(6,)"
      ]
     },
     "execution_count": 124,
     "metadata": {},
     "output_type": "execute_result"
    }
   ],
   "source": [
    "e=np.random.multivariate_normal(np.zeros(n),np.eye(n))\n",
    "# e=np.random.uniform(low=-0.5,high=0.5,size=(n,1))\n",
    "e.shape"
   ]
  },
  {
   "cell_type": "code",
   "execution_count": 11,
   "id": "3f650148",
   "metadata": {},
   "outputs": [
    {
     "name": "stdout",
     "output_type": "stream",
     "text": [
      "Sample Size 1 of 4\n",
      "Sample Size 2 of 4\n",
      "Sample Size 3 of 4\n",
      "Sample Size 4 of 4\n"
     ]
    },
    {
     "data": {
      "image/png": "[encoded data removed]",
      "text/plain": [
       "<Figure size 432x288 with 1 Axes>"
      ]
     },
     "metadata": {
      "needs_background": "light"
     },
     "output_type": "display_data"
    }
   ],
   "source": [
    "### Here we use i.i.d data to create Figure 1a\n",
    "np.random.seed(0)\n",
    "d=5  #Dimensionality\n",
    "s=2  #Number of support entries\n",
    "samples=[6,7,8,9]  #Sample Sizes\n",
    "success=np.zeros(len(samples))\n",
    "runs=10\n",
    "l=1 # Number of intervals we combine for the statistics\n",
    "B=100 # Bootstrap runs\n",
    "I=20      #Number of Intervals \n",
    "lam=0   #Lambda\n",
    "a=[list(itertools.combinations(range(d), k)) for k in range(0,d)]\n",
    "subsets = [item for sublist in a for item in sublist]\n",
    "dic={}\n",
    "for o,n in enumerate(samples):\n",
    "    print('Sample Size',o+1,'of',len(samples))\n",
    "    for r in range(runs):\n",
    "        x=np.zeros((I,n,d))\n",
    "        y=np.zeros((I,n))\n",
    "        betas=np.zeros((I,d))\n",
    "        R=np.zeros((I,n))\n",
    "        for i in range(I):\n",
    "            b=np.random.uniform(low=0,high=30,size=(d))\n",
    "            a=np.random.uniform(low=-30,high=0,size=(d))\n",
    "            for p in range(d):\n",
    "                x[i,:,p]=np.random.uniform(low=a[p],high=b[p],size=(n))\n",
    "            betas[i,:s]=np.random.uniform(low=-1,high=4,size=(s))\n",
    "            e=np.random.multivariate_normal(np.zeros(n),np.eye(n))\n",
    "            y[i,:]=x[i,:,:]@betas[i,:]+e\n",
    "            x[i,:,4]=betas[i,0]*y[i,:]+np.random.uniform(low=a[p],high=b[p],size=(n))\n",
    "\n",
    "        for ind in subsets:\n",
    "            for i in range(I):\n",
    "                if len(ind)==0:\n",
    "                    R[i,:]=y[i,:]\n",
    "                else:\n",
    "                    ind=np.array(ind)\n",
    "                    beta_hat=np.linalg.inv(x[i,:,ind]@x[i,:,ind].T+lam*np.eye(len(ind)))@(x[i,:,ind])@y[i,:]\n",
    "                    R[i,:]=y[i,:]-x[i,:,ind].T@beta_hat\n",
    "            dic[tuple(ind)]=copy.copy(R)\n",
    "        S_ini=[]\n",
    "        for k in dic:\n",
    "            Res=dic[k]\n",
    "            pval=0\n",
    "            for b in range(B):\n",
    "                a=np.random.chisquare(n-len(k),I)\n",
    "                T=np.sum(Res**2,axis=1)\n",
    "#                 if np.min(T)/np.max(T)>np.min(a)/np.max(a):\n",
    "#                     pval+=1/B\n",
    "                T_b=np.sort(a,kind='mergesort')\n",
    "                T_data=np.sort(T,kind='mergesort')\n",
    "                if np.sum(T_data[:l])/np.sum(T_data[-l:])>np.sum(T_b[:l])/np.sum(T_b[-l:]):\n",
    "                    pval+=1/B\n",
    "            if pval>0.05:\n",
    "                S_ini.append(k)\n",
    "        plausibleS=[set(S_ini[k]) for k in range(len(S_ini))]\n",
    "        if not not plausibleS:\n",
    "            if tuple(set.intersection(*plausibleS))==(0,1):\n",
    "                success[o]+=1\n",
    "success=success/runs\n",
    "fig, ax = plt.subplots()\n",
    "for label in (ax.get_xticklabels() + ax.get_yticklabels()):\n",
    "\tlabel.set_fontsize(14)\n",
    "plt.plot(samples,success,linewidth=2.5)\n",
    "plt.xlabel('Sample Size',fontsize=14)\n",
    "plt.ylabel('Success Rate',fontsize=14)\n",
    "plt.savefig('andersIID.eps', format='eps')"
   ]
  },
  {
   "cell_type": "code",
   "execution_count": null,
   "id": "14beb818",
   "metadata": {},
   "outputs": [],
   "source": [
    "a=Res.flatten()\n",
    "print(a[:2])\n",
    "print(a[-2:])"
   ]
  },
  {
   "cell_type": "code",
   "execution_count": 5,
   "id": "0475bd22",
   "metadata": {},
   "outputs": [
    {
     "name": "stdout",
     "output_type": "stream",
     "text": [
      "Sample Size 1 of 3\n"
     ]
    },
    {
     "name": "stderr",
     "output_type": "stream",
     "text": [
      "/tmp/ipykernel_153/638891303.py:41: UserWarning: p-value floored: true value smaller than 0.001\n",
      "  pval=scipy.stats.anderson_ksamp(Res)[2]\n",
      "/tmp/ipykernel_153/638891303.py:41: UserWarning: p-value capped: true value larger than 0.25\n",
      "  pval=scipy.stats.anderson_ksamp(Res)[2]\n"
     ]
    },
    {
     "name": "stdout",
     "output_type": "stream",
     "text": [
      "Sample Size 2 of 3\n",
      "Sample Size 3 of 3\n"
     ]
    },
    {
     "data": {
      "image/png": "[encoded data removed]",
      "text/plain": [
       "<Figure size 432x288 with 1 Axes>"
      ]
     },
     "metadata": {
      "needs_background": "light"
     },
     "output_type": "display_data"
    }
   ],
   "source": [
    "### Here we use i.i.d data to create Figure 1a\n",
    "np.random.seed(0)\n",
    "d=5  #Dimensionality\n",
    "s=2  #Number of support entries\n",
    "samples=[11,12,13]  #Sample Sizes\n",
    "success=np.zeros(len(samples))\n",
    "runs=10\n",
    "I=10     #Number of Intervals \n",
    "lam=0   #Lambda\n",
    "a=[list(itertools.combinations((0,1,2,3,4), k)) for k in range(0,d)]\n",
    "subsets = [item for sublist in a for item in sublist]\n",
    "dic={}\n",
    "for o,n in enumerate(samples):\n",
    "    print('Sample Size',o+1,'of',len(samples))\n",
    "    for r in range(runs):\n",
    "        x=np.zeros((I,n,d))\n",
    "        y=np.zeros((I,n))\n",
    "        betas=np.zeros((I,d))\n",
    "        R=np.zeros((I,n))\n",
    "        for i in range(I):\n",
    "            b=np.random.uniform(low=0,high=30,size=(d))\n",
    "            a=np.random.uniform(low=-30,high=0,size=(d))\n",
    "            for p in range(d):\n",
    "                x[i,:,p]=np.random.uniform(low=a[p],high=b[p],size=(n))\n",
    "            betas[i,:s]=np.random.uniform(low=-1,high=4,size=(s))\n",
    "            e=np.random.multivariate_normal(np.zeros(n),np.eye(n))\n",
    "            y[i,:]=x[i,:,:]@betas[i,:]+e\n",
    "\n",
    "        for ind in subsets:\n",
    "            for i in range(I):\n",
    "                if len(ind)==0:\n",
    "                    R[i,:]=y[i,:]\n",
    "                else:\n",
    "                    ind=np.array(ind)\n",
    "                    beta_hat=np.linalg.inv(x[i,:,ind]@x[i,:,ind].T+lam*np.eye(len(ind)))@(x[i,:,ind])@y[i,:]\n",
    "                    R[i,:]=y[i,:]-x[i,:,ind].T@beta_hat\n",
    "            dic[tuple(ind)]=copy.copy(R)\n",
    "        S_ini=[]\n",
    "        for k in dic:\n",
    "            Res=dic[k]\n",
    "            pval=scipy.stats.anderson_ksamp(Res)[2]\n",
    "            if pval>0.05:\n",
    "                S_ini.append(k)\n",
    "        plausibleS=[set(S_ini[k]) for k in range(len(S_ini))]\n",
    "        if not not plausibleS:\n",
    "            if tuple(set.intersection(*plausibleS))==(0,1):\n",
    "                success[o]+=1\n",
    "success=success/runs\n",
    "fig, ax = plt.subplots()\n",
    "for label in (ax.get_xticklabels() + ax.get_yticklabels()):\n",
    "\tlabel.set_fontsize(14)\n",
    "plt.plot(samples,success,linewidth=2.5)\n",
    "plt.xlabel('Sample Size',fontsize=14)\n",
    "plt.ylabel('Success Rate',fontsize=14)\n",
    "plt.savefig('andersIID.eps', format='eps')"
   ]
  },
  {
   "cell_type": "code",
   "execution_count": null,
   "id": "e415059b",
   "metadata": {},
   "outputs": [],
   "source": []
  }
 ],
 "metadata": {
  "kernelspec": {
   "display_name": "Python 3 (ipykernel)",
   "language": "python",
   "name": "python3"
  },
  "language_info": {
   "codemirror_mode": {
    "name": "ipython",
    "version": 3
   },
   "file_extension": ".py",
   "mimetype": "text/x-python",
   "name": "python",
   "nbconvert_exporter": "python",
   "pygments_lexer": "ipython3",
   "version": "3.7.13"
  }
 },
 "nbformat": 4,
 "nbformat_minor": 5
}
