{
 "cells": [
  {
   "cell_type": "markdown",
   "id": "0a3bc4ae",
   "metadata": {},
   "source": [
    "This Notebook accompanies the submission of the paper \"Causal Discovery in Time Series Data Using Causally Invariant Locally Linear Models\" submitted to the NeuRIPS 2022 Workshop \"A Causal View on Dynamical Systems\". Running this Notebook in order will create all figures of the main text."
   ]
  },
  {
   "cell_type": "code",
   "execution_count": 15,
   "id": "9a073da2",
   "metadata": {},
   "outputs": [],
   "source": [
    "### In this Notebook we will experiment with the effect of small local linear intervals for non-linear data\n",
    "### Some initializations\n",
    "import numpy as np\n",
    "import math\n",
    "import random\n",
    "import copy\n",
    "import matplotlib.pyplot as plt\n",
    "import scipy\n",
    "from sklearn import linear_model\n",
    "from group_lasso import GroupLasso\n",
    "import warnings\n",
    "import itertools\n",
    "# warnings.filterwarnings(\"ignore\")"
   ]
  },
  {
   "cell_type": "code",
   "execution_count": 16,
   "id": "cb3b4bb2",
   "metadata": {
    "scrolled": true
   },
   "outputs": [
    {
     "name": "stdout",
     "output_type": "stream",
     "text": [
      "Sample Size 1 of 8\n"
     ]
    },
    {
     "name": "stderr",
     "output_type": "stream",
     "text": [
      "/tmp/ipykernel_379/2560476125.py:41: UserWarning: p-value floored: true value smaller than 0.001\n",
      "  pval=scipy.stats.anderson_ksamp(Res)[2]\n",
      "/tmp/ipykernel_379/2560476125.py:41: UserWarning: p-value capped: true value larger than 0.25\n",
      "  pval=scipy.stats.anderson_ksamp(Res)[2]\n"
     ]
    },
    {
     "name": "stdout",
     "output_type": "stream",
     "text": [
      "Sample Size 2 of 8\n",
      "Sample Size 3 of 8\n",
      "Sample Size 4 of 8\n",
      "Sample Size 5 of 8\n",
      "Sample Size 6 of 8\n",
      "Sample Size 7 of 8\n",
      "Sample Size 8 of 8\n"
     ]
    },
    {
     "ename": "NameError",
     "evalue": "name 'ax' is not defined",
     "output_type": "error",
     "traceback": [
      "\u001b[0;31m---------------------------------------------------------------------------\u001b[0m",
      "\u001b[0;31mNameError\u001b[0m                                 Traceback (most recent call last)",
      "\u001b[0;32m/tmp/ipykernel_379/2560476125.py\u001b[0m in \u001b[0;36m<module>\u001b[0;34m\u001b[0m\n\u001b[1;32m     47\u001b[0m                 \u001b[0msuccess\u001b[0m\u001b[0;34m[\u001b[0m\u001b[0mo\u001b[0m\u001b[0;34m]\u001b[0m\u001b[0;34m+=\u001b[0m\u001b[0;36m1\u001b[0m\u001b[0;34m\u001b[0m\u001b[0;34m\u001b[0m\u001b[0m\n\u001b[1;32m     48\u001b[0m \u001b[0msuccess\u001b[0m\u001b[0;34m=\u001b[0m\u001b[0msuccess\u001b[0m\u001b[0;34m/\u001b[0m\u001b[0mruns\u001b[0m\u001b[0;34m\u001b[0m\u001b[0;34m\u001b[0m\u001b[0m\n\u001b[0;32m---> 49\u001b[0;31m \u001b[0;32mfor\u001b[0m \u001b[0mlabel\u001b[0m \u001b[0;32min\u001b[0m \u001b[0;34m(\u001b[0m\u001b[0max\u001b[0m\u001b[0;34m.\u001b[0m\u001b[0mget_xticklabels\u001b[0m\u001b[0;34m(\u001b[0m\u001b[0;34m)\u001b[0m \u001b[0;34m+\u001b[0m \u001b[0max\u001b[0m\u001b[0;34m.\u001b[0m\u001b[0mget_yticklabels\u001b[0m\u001b[0;34m(\u001b[0m\u001b[0;34m)\u001b[0m\u001b[0;34m)\u001b[0m\u001b[0;34m:\u001b[0m\u001b[0;34m\u001b[0m\u001b[0;34m\u001b[0m\u001b[0m\n\u001b[0m\u001b[1;32m     50\u001b[0m         \u001b[0mlabel\u001b[0m\u001b[0;34m.\u001b[0m\u001b[0mset_fontsize\u001b[0m\u001b[0;34m(\u001b[0m\u001b[0;36m14\u001b[0m\u001b[0;34m)\u001b[0m\u001b[0;34m\u001b[0m\u001b[0;34m\u001b[0m\u001b[0m\n\u001b[1;32m     51\u001b[0m \u001b[0mplt\u001b[0m\u001b[0;34m.\u001b[0m\u001b[0mplot\u001b[0m\u001b[0;34m(\u001b[0m\u001b[0msamples\u001b[0m\u001b[0;34m,\u001b[0m\u001b[0msuccess\u001b[0m\u001b[0;34m,\u001b[0m\u001b[0mlinewidth\u001b[0m\u001b[0;34m=\u001b[0m\u001b[0;36m2.5\u001b[0m\u001b[0;34m)\u001b[0m\u001b[0;34m\u001b[0m\u001b[0;34m\u001b[0m\u001b[0m\n",
      "\u001b[0;31mNameError\u001b[0m: name 'ax' is not defined"
     ]
    }
   ],
   "source": [
    "### Here we use i.i.d data to create Figure 1a\n",
    "np.random.seed(0)\n",
    "d=5  #Dimensionality\n",
    "s=2  #Number of support entries\n",
    "samples=[3,4,5,6,7,8,9,10]  #Sample Sizes\n",
    "success=np.zeros(len(samples))\n",
    "runs=100\n",
    "I=100      #Number of Intervals \n",
    "lam=0.01   #Lambda\n",
    "a=[list(itertools.combinations((0,1,2,3,4), k)) for k in range(0,d)]\n",
    "subsets = [item for sublist in a for item in sublist]\n",
    "dic={}\n",
    "for o,n in enumerate(samples):\n",
    "    print('Sample Size',o+1,'of',len(samples))\n",
    "    for r in range(runs):\n",
    "        x=np.zeros((I,n,d))\n",
    "        y=np.zeros((I,n))\n",
    "        betas=np.zeros((I,d))\n",
    "        R=np.zeros((I,n))\n",
    "        for i in range(I):\n",
    "            b=np.random.uniform(low=0,high=30,size=(d))\n",
    "            a=np.random.uniform(low=-30,high=0,size=(d))\n",
    "            for p in range(d):\n",
    "                x[i,:,p]=np.random.uniform(low=a[p],high=b[p],size=(n))\n",
    "            betas[i,:s]=np.random.uniform(low=-1,high=4,size=(s))\n",
    "            e=np.random.multivariate_normal(np.zeros(n),np.eye(n))\n",
    "            y[i,:]=x[i,:,:]@betas[i,:]+e\n",
    "\n",
    "        for ind in subsets:\n",
    "            for i in range(I):\n",
    "                if len(ind)==0:\n",
    "                    R[i,:]=y[i,:]\n",
    "                else:\n",
    "                    ind=np.array(ind)\n",
    "                    beta_hat=np.linalg.inv(x[i,:,ind]@x[i,:,ind].T+lam*np.eye(len(ind)))@(x[i,:,ind])@y[i,:]\n",
    "                    R[i,:]=y[i,:]-x[i,:,ind].T@beta_hat\n",
    "            dic[tuple(ind)]=copy.copy(R)\n",
    "        S_ini=[]\n",
    "        for k in dic:\n",
    "            Res=dic[k]\n",
    "            pval=scipy.stats.anderson_ksamp(Res)[2]\n",
    "            if pval>0.05:\n",
    "                S_ini.append(k)\n",
    "        plausibleS=[set(S_ini[k]) for k in range(len(S_ini))]\n",
    "        if not not plausibleS:\n",
    "            if tuple(set.intersection(*plausibleS))==(0,1):\n",
    "                success[o]+=1\n",
    "success=success/runs\n",
    "fig, ax = plt.subplots()\n",
    "for label in (ax.get_xticklabels() + ax.get_yticklabels()):\n",
    "\tlabel.set_fontsize(14)\n",
    "plt.plot(samples,success,linewidth=2.5)\n",
    "plt.xlabel('Sample Size',fontsize=14)\n",
    "plt.ylabel('Success Rate',fontsize=14)\n",
    "plt.savefig('andersIID.eps', format='eps')"
   ]
  },
  {
   "cell_type": "code",
   "execution_count": 18,
   "id": "76751c27",
   "metadata": {
    "scrolled": true
   },
   "outputs": [
    {
     "name": "stdout",
     "output_type": "stream",
     "text": [
      "Lambda number 1 of 6\n",
      "Lambda number 2 of 6\n",
      "Lambda number 3 of 6\n",
      "Lambda number 4 of 6\n",
      "Lambda number 5 of 6\n",
      "Lambda number 6 of 6\n"
     ]
    },
    {
     "data": {
      "image/png": "[encoded data removed]",
      "text/plain": [
       "<Figure size 432x288 with 1 Axes>"
      ]
     },
     "metadata": {
      "needs_background": "light"
     },
     "output_type": "display_data"
    }
   ],
   "source": [
    "### Here we use i.i.d data to create Figure 1b\n",
    "np.random.seed(0)\n",
    "d=5  #Dimensionality\n",
    "s=2  #Number of support entries\n",
    "n=4  #Sample size\n",
    "lambdas=[0.001,0.005,0.01,0.05,0.1,0.15]\n",
    "success2=np.zeros(len(lambdas))\n",
    "kappa=1\n",
    "runs=100\n",
    "I=100\n",
    "a=[list(itertools.combinations((0,1,2,3,4), k)) for k in range(0,d)]\n",
    "subsets = [item for sublist in a for item in sublist]\n",
    "dic={}\n",
    "for o,lam in enumerate(lambdas):\n",
    "    print('Lambda number',o+1,'of',len(lambdas))\n",
    "    for r in range(runs):\n",
    "        x=np.zeros((I,n,d))\n",
    "        y=np.zeros((I,n))\n",
    "        betas=np.zeros((I,d))\n",
    "        R=np.zeros((I,n))\n",
    "        for i in range(I):\n",
    "            b=np.random.uniform(low=0,high=30,size=(d))\n",
    "            a=np.random.uniform(low=-30,high=0,size=(d))\n",
    "            for p in range(d):\n",
    "                x[i,:,p]=np.random.uniform(low=a[p],high=b[p],size=(n))\n",
    "            betas[i,:s]=np.random.uniform(low=-1,high=4,size=(s))\n",
    "            e=np.random.multivariate_normal(np.zeros(n),np.eye(n))\n",
    "            y[i,:]=x[i,:,:]@betas[i,:]+e\n",
    "\n",
    "        for ind in subsets:\n",
    "            for i in range(I):\n",
    "                if len(ind)==0:\n",
    "                    R[i,:]=y[i,:]\n",
    "                else:\n",
    "                    ind=np.array(ind)\n",
    "                    beta_hat=np.linalg.inv(x[i,:,ind]@x[i,:,ind].T+lam*np.eye(len(ind)))@(x[i,:,ind])@y[i,:]\n",
    "                    R[i,:]=y[i,:]-x[i,:,ind].T@beta_hat\n",
    "            dic[tuple(ind)]=copy.copy(R)\n",
    "        S_ini=[]\n",
    "        for k in dic:\n",
    "            Res=dic[k]\n",
    "            if np.var(np.var(Res,axis=1))<1:\n",
    "                S_ini.append(k)\n",
    "        plausibleS=[set(S_ini[k]) for k in range(len(S_ini))]\n",
    "        if not not plausibleS:\n",
    "            if tuple(set.intersection(*plausibleS))==(0,1):\n",
    "                success2[o]+=1\n",
    "success2=success2/runs\n",
    "fig, ax = plt.subplots()\n",
    "for label in (ax.get_xticklabels() + ax.get_yticklabels()):\n",
    "\tlabel.set_fontsize(14)\n",
    "plt.plot(lambdas,success2,linewidth=2.5)\n",
    "plt.xlabel('Lambda',fontsize=14)\n",
    "plt.ylabel('Success Rate',fontsize=14)\n",
    "plt.savefig('variationIID.eps', format='eps')"
   ]
  },
  {
   "cell_type": "code",
   "execution_count": 19,
   "id": "1a0ce42e",
   "metadata": {},
   "outputs": [
    {
     "name": "stdout",
     "output_type": "stream",
     "text": [
      "Interval 1 of 8\n"
     ]
    },
    {
     "name": "stderr",
     "output_type": "stream",
     "text": [
      "/tmp/ipykernel_379/3164224205.py:68: UserWarning: p-value floored: true value smaller than 0.001\n",
      "  pval=scipy.stats.anderson_ksamp(Res)[2]\n",
      "/tmp/ipykernel_379/3164224205.py:68: UserWarning: p-value capped: true value larger than 0.25\n",
      "  pval=scipy.stats.anderson_ksamp(Res)[2]\n"
     ]
    },
    {
     "name": "stdout",
     "output_type": "stream",
     "text": [
      "Interval 2 of 8\n",
      "Interval 3 of 8\n",
      "Interval 4 of 8\n",
      "Interval 5 of 8\n",
      "Interval 6 of 8\n",
      "Interval 7 of 8\n",
      "Interval 8 of 8\n"
     ]
    },
    {
     "data": {
      "image/png": "[encoded data removed]",
      "text/plain": [
       "<Figure size 432x288 with 1 Axes>"
      ]
     },
     "metadata": {
      "needs_background": "light"
     },
     "output_type": "display_data"
    }
   ],
   "source": [
    "### Here we use vAR data to create Figure 2a\n",
    "\n",
    "Intervals=[20,25,33,50,100,200,400,800]  #Total modeled intervals, the modelled sample size will follow\n",
    "runs=100\n",
    "success3=np.zeros(len(Intervals))\n",
    "sample_size=np.zeros(len(Intervals))\n",
    "n_switch=40  # Ground truth sample size per interval\n",
    "np.random.seed(0)\n",
    "d=5 #Dimensionality\n",
    "target=1 #Target covariate\n",
    "length=4000  #Total length of the time series\n",
    "for p,I in enumerate(Intervals):\n",
    "    print('Interval',p+1,'of',len(Intervals))\n",
    "    for r in range(runs):\n",
    "        n=length//I  #Model sample size, equivalent to hat(n) in the paper\n",
    "        sample_size[p]=n\n",
    "        series=np.zeros((length,d))\n",
    "        x=np.zeros((I,n,d))\n",
    "        y=np.zeros((I,n))\n",
    "        A=np.array([[0.5,-0.7,0,0,0.9],[0,0.4,1,0,0.5],[0,0,-0.9,0,0],[0,0.5,0,0.8,-1],[0,0,0,0,0.4]])\n",
    "        supp=copy.copy(A)\n",
    "        supp[supp!=0]=1\n",
    "        non_supp=np.argwhere(A == 0)\n",
    "        mean=np.zeros((d))\n",
    "        cov=np.eye(d)\n",
    "        series[0]=np.random.multivariate_normal(mean,4*np.eye(d))\n",
    "        count=1\n",
    "        i=-1\n",
    "        b=np.random.uniform(low=0,high=30)\n",
    "        a=np.random.uniform(low=-30,high=0)\n",
    "        for j in range(0,n*I-1):\n",
    "            series[j+1] =np.matmul(series[j],A)\n",
    "            series[j+1,np.delete(np.array([0,1,2,3,4]),target)] =series[j+1,np.delete(np.array([0,1,2,3,4]),target)]+ np.random.uniform(low=a,high=b,size=(d-1))\n",
    "            series[j+1,target] =series[j+1,target]+ np.random.uniform(low=-1,high=1)\n",
    "            A=A+np.random.normal(loc=-0.0001,scale=0.001,size=(5,5))*supp\n",
    "            A[A>0.9]=0.8\n",
    "            A[A<-0.9]=-0.8\n",
    "            if j%n_switch==0:\n",
    "                b=np.random.uniform(low=0,high=30)\n",
    "                a=np.random.uniform(low=-30,high=0)\n",
    "            if j%n==0:\n",
    "                i+=1\n",
    "            x[i,j-i*n,:]=series[j,:]\n",
    "            y[i,j-i*n]=series[j+1,target]\n",
    "            y[i,j-i*n]=series[j+1,target]+np.random.normal(loc=0,scale=1)\n",
    "\n",
    "        ## Here we perform the hypothesis test\n",
    "        R=np.zeros((I,n))\n",
    "        a=[list(itertools.combinations((0,1,2,3,4), k)) for k in range(0,d)]\n",
    "        subsets = [item for sublist in a for item in sublist]\n",
    "        dic={}\n",
    "\n",
    "        for ind in subsets:\n",
    "            for i in range(I):\n",
    "                if len(ind)==0:\n",
    "                    R[i,:]=y[i,:]\n",
    "                else:\n",
    "                    ind=np.array(ind)\n",
    "                    beta_hat=np.linalg.inv(x[i,:,ind]@x[i,:,ind].T+0.01*np.eye(len(ind)))@(x[i,:,ind])@y[i,:]\n",
    "                    R[i,:]=y[i,:]-x[i,:,ind].T@beta_hat\n",
    "\n",
    "\n",
    "            dic[tuple(ind)]=copy.copy(R)\n",
    "        S_ini=[]\n",
    "        for k in dic:\n",
    "            Res=dic[k]\n",
    "            pval=scipy.stats.anderson_ksamp(Res)[2]\n",
    "            if pval>0.05:\n",
    "                S_ini.append(k)\n",
    "        plausibleS=[set(S_ini[k]) for k in range(len(S_ini))]\n",
    "        if not not plausibleS:\n",
    "            if tuple(set.intersection(*plausibleS))==tuple((np.argwhere(A[:,target]!=0).flatten())):\n",
    "                success3[p]+=1\n",
    "\n",
    "success3=success3/runs\n",
    "fig, ax = plt.subplots()\n",
    "for label in (ax.get_xticklabels() + ax.get_yticklabels()):\n",
    "\tlabel.set_fontsize(14)\n",
    "plt.plot(sample_size,success3,linewidth=2.5)\n",
    "plt.xlabel('Sample Size',fontsize=14)\n",
    "plt.ylabel('Success Rate',fontsize=14)\n",
    "plt.savefig('andersonVAR.eps', format='eps')"
   ]
  },
  {
   "cell_type": "code",
   "execution_count": 20,
   "id": "df334c9d",
   "metadata": {},
   "outputs": [
    {
     "name": "stdout",
     "output_type": "stream",
     "text": [
      "Lambda 1 of 6\n",
      "Lambda 2 of 6\n",
      "Lambda 3 of 6\n",
      "Lambda 4 of 6\n",
      "Lambda 5 of 6\n",
      "Lambda 6 of 6\n"
     ]
    },
    {
     "ename": "ValueError",
     "evalue": "x and y must have same first dimension, but have shapes (6,) and (8,)",
     "output_type": "error",
     "traceback": [
      "\u001b[0;31m---------------------------------------------------------------------------\u001b[0m",
      "\u001b[0;31mValueError\u001b[0m                                Traceback (most recent call last)",
      "\u001b[0;32m/tmp/ipykernel_379/528385218.py\u001b[0m in \u001b[0;36m<module>\u001b[0;34m\u001b[0m\n\u001b[1;32m     77\u001b[0m \u001b[0;32mfor\u001b[0m \u001b[0mlabel\u001b[0m \u001b[0;32min\u001b[0m \u001b[0;34m(\u001b[0m\u001b[0max\u001b[0m\u001b[0;34m.\u001b[0m\u001b[0mget_xticklabels\u001b[0m\u001b[0;34m(\u001b[0m\u001b[0;34m)\u001b[0m \u001b[0;34m+\u001b[0m \u001b[0max\u001b[0m\u001b[0;34m.\u001b[0m\u001b[0mget_yticklabels\u001b[0m\u001b[0;34m(\u001b[0m\u001b[0;34m)\u001b[0m\u001b[0;34m)\u001b[0m\u001b[0;34m:\u001b[0m\u001b[0;34m\u001b[0m\u001b[0;34m\u001b[0m\u001b[0m\n\u001b[1;32m     78\u001b[0m         \u001b[0mlabel\u001b[0m\u001b[0;34m.\u001b[0m\u001b[0mset_fontsize\u001b[0m\u001b[0;34m(\u001b[0m\u001b[0;36m14\u001b[0m\u001b[0;34m)\u001b[0m\u001b[0;34m\u001b[0m\u001b[0;34m\u001b[0m\u001b[0m\n\u001b[0;32m---> 79\u001b[0;31m \u001b[0mplt\u001b[0m\u001b[0;34m.\u001b[0m\u001b[0mplot\u001b[0m\u001b[0;34m(\u001b[0m\u001b[0msample_size\u001b[0m\u001b[0;34m,\u001b[0m\u001b[0msuccess3\u001b[0m\u001b[0;34m,\u001b[0m\u001b[0mlinewidth\u001b[0m\u001b[0;34m=\u001b[0m\u001b[0;36m2.5\u001b[0m\u001b[0;34m)\u001b[0m\u001b[0;34m\u001b[0m\u001b[0;34m\u001b[0m\u001b[0m\n\u001b[0m\u001b[1;32m     80\u001b[0m \u001b[0mplt\u001b[0m\u001b[0;34m.\u001b[0m\u001b[0mplot\u001b[0m\u001b[0;34m(\u001b[0m\u001b[0mlambdas\u001b[0m\u001b[0;34m,\u001b[0m\u001b[0msuccess4\u001b[0m\u001b[0;34m,\u001b[0m\u001b[0mlinewidth\u001b[0m\u001b[0;34m=\u001b[0m\u001b[0;36m2.5\u001b[0m\u001b[0;34m)\u001b[0m\u001b[0;34m\u001b[0m\u001b[0;34m\u001b[0m\u001b[0m\n\u001b[1;32m     81\u001b[0m \u001b[0mplt\u001b[0m\u001b[0;34m.\u001b[0m\u001b[0mxlabel\u001b[0m\u001b[0;34m(\u001b[0m\u001b[0;34m'Lambda'\u001b[0m\u001b[0;34m,\u001b[0m\u001b[0mfontsize\u001b[0m\u001b[0;34m=\u001b[0m\u001b[0;36m14\u001b[0m\u001b[0;34m)\u001b[0m\u001b[0;34m\u001b[0m\u001b[0;34m\u001b[0m\u001b[0m\n",
      "\u001b[0;32m~/.local/lib/python3.8/site-packages/matplotlib/pyplot.py\u001b[0m in \u001b[0;36mplot\u001b[0;34m(scalex, scaley, data, *args, **kwargs)\u001b[0m\n\u001b[1;32m   2755\u001b[0m \u001b[0;34m@\u001b[0m\u001b[0m_copy_docstring_and_deprecators\u001b[0m\u001b[0;34m(\u001b[0m\u001b[0mAxes\u001b[0m\u001b[0;34m.\u001b[0m\u001b[0mplot\u001b[0m\u001b[0;34m)\u001b[0m\u001b[0;34m\u001b[0m\u001b[0;34m\u001b[0m\u001b[0m\n\u001b[1;32m   2756\u001b[0m \u001b[0;32mdef\u001b[0m \u001b[0mplot\u001b[0m\u001b[0;34m(\u001b[0m\u001b[0;34m*\u001b[0m\u001b[0margs\u001b[0m\u001b[0;34m,\u001b[0m \u001b[0mscalex\u001b[0m\u001b[0;34m=\u001b[0m\u001b[0;32mTrue\u001b[0m\u001b[0;34m,\u001b[0m \u001b[0mscaley\u001b[0m\u001b[0;34m=\u001b[0m\u001b[0;32mTrue\u001b[0m\u001b[0;34m,\u001b[0m \u001b[0mdata\u001b[0m\u001b[0;34m=\u001b[0m\u001b[0;32mNone\u001b[0m\u001b[0;34m,\u001b[0m \u001b[0;34m**\u001b[0m\u001b[0mkwargs\u001b[0m\u001b[0;34m)\u001b[0m\u001b[0;34m:\u001b[0m\u001b[0;34m\u001b[0m\u001b[0;34m\u001b[0m\u001b[0m\n\u001b[0;32m-> 2757\u001b[0;31m     return gca().plot(\n\u001b[0m\u001b[1;32m   2758\u001b[0m         \u001b[0;34m*\u001b[0m\u001b[0margs\u001b[0m\u001b[0;34m,\u001b[0m \u001b[0mscalex\u001b[0m\u001b[0;34m=\u001b[0m\u001b[0mscalex\u001b[0m\u001b[0;34m,\u001b[0m \u001b[0mscaley\u001b[0m\u001b[0;34m=\u001b[0m\u001b[0mscaley\u001b[0m\u001b[0;34m,\u001b[0m\u001b[0;34m\u001b[0m\u001b[0;34m\u001b[0m\u001b[0m\n\u001b[1;32m   2759\u001b[0m         **({\"data\": data} if data is not None else {}), **kwargs)\n",
      "\u001b[0;32m~/.local/lib/python3.8/site-packages/matplotlib/axes/_axes.py\u001b[0m in \u001b[0;36mplot\u001b[0;34m(self, scalex, scaley, data, *args, **kwargs)\u001b[0m\n\u001b[1;32m   1630\u001b[0m         \"\"\"\n\u001b[1;32m   1631\u001b[0m         \u001b[0mkwargs\u001b[0m \u001b[0;34m=\u001b[0m \u001b[0mcbook\u001b[0m\u001b[0;34m.\u001b[0m\u001b[0mnormalize_kwargs\u001b[0m\u001b[0;34m(\u001b[0m\u001b[0mkwargs\u001b[0m\u001b[0;34m,\u001b[0m \u001b[0mmlines\u001b[0m\u001b[0;34m.\u001b[0m\u001b[0mLine2D\u001b[0m\u001b[0;34m)\u001b[0m\u001b[0;34m\u001b[0m\u001b[0;34m\u001b[0m\u001b[0m\n\u001b[0;32m-> 1632\u001b[0;31m         \u001b[0mlines\u001b[0m \u001b[0;34m=\u001b[0m \u001b[0;34m[\u001b[0m\u001b[0;34m*\u001b[0m\u001b[0mself\u001b[0m\u001b[0;34m.\u001b[0m\u001b[0m_get_lines\u001b[0m\u001b[0;34m(\u001b[0m\u001b[0;34m*\u001b[0m\u001b[0margs\u001b[0m\u001b[0;34m,\u001b[0m \u001b[0mdata\u001b[0m\u001b[0;34m=\u001b[0m\u001b[0mdata\u001b[0m\u001b[0;34m,\u001b[0m \u001b[0;34m**\u001b[0m\u001b[0mkwargs\u001b[0m\u001b[0;34m)\u001b[0m\u001b[0;34m]\u001b[0m\u001b[0;34m\u001b[0m\u001b[0;34m\u001b[0m\u001b[0m\n\u001b[0m\u001b[1;32m   1633\u001b[0m         \u001b[0;32mfor\u001b[0m \u001b[0mline\u001b[0m \u001b[0;32min\u001b[0m \u001b[0mlines\u001b[0m\u001b[0;34m:\u001b[0m\u001b[0;34m\u001b[0m\u001b[0;34m\u001b[0m\u001b[0m\n\u001b[1;32m   1634\u001b[0m             \u001b[0mself\u001b[0m\u001b[0;34m.\u001b[0m\u001b[0madd_line\u001b[0m\u001b[0;34m(\u001b[0m\u001b[0mline\u001b[0m\u001b[0;34m)\u001b[0m\u001b[0;34m\u001b[0m\u001b[0;34m\u001b[0m\u001b[0m\n",
      "\u001b[0;32m~/.local/lib/python3.8/site-packages/matplotlib/axes/_base.py\u001b[0m in \u001b[0;36m__call__\u001b[0;34m(self, data, *args, **kwargs)\u001b[0m\n\u001b[1;32m    310\u001b[0m                 \u001b[0mthis\u001b[0m \u001b[0;34m+=\u001b[0m \u001b[0margs\u001b[0m\u001b[0;34m[\u001b[0m\u001b[0;36m0\u001b[0m\u001b[0;34m]\u001b[0m\u001b[0;34m,\u001b[0m\u001b[0;34m\u001b[0m\u001b[0;34m\u001b[0m\u001b[0m\n\u001b[1;32m    311\u001b[0m                 \u001b[0margs\u001b[0m \u001b[0;34m=\u001b[0m \u001b[0margs\u001b[0m\u001b[0;34m[\u001b[0m\u001b[0;36m1\u001b[0m\u001b[0;34m:\u001b[0m\u001b[0;34m]\u001b[0m\u001b[0;34m\u001b[0m\u001b[0;34m\u001b[0m\u001b[0m\n\u001b[0;32m--> 312\u001b[0;31m             \u001b[0;32myield\u001b[0m \u001b[0;32mfrom\u001b[0m \u001b[0mself\u001b[0m\u001b[0;34m.\u001b[0m\u001b[0m_plot_args\u001b[0m\u001b[0;34m(\u001b[0m\u001b[0mthis\u001b[0m\u001b[0;34m,\u001b[0m \u001b[0mkwargs\u001b[0m\u001b[0;34m)\u001b[0m\u001b[0;34m\u001b[0m\u001b[0;34m\u001b[0m\u001b[0m\n\u001b[0m\u001b[1;32m    313\u001b[0m \u001b[0;34m\u001b[0m\u001b[0m\n\u001b[1;32m    314\u001b[0m     \u001b[0;32mdef\u001b[0m \u001b[0mget_next_color\u001b[0m\u001b[0;34m(\u001b[0m\u001b[0mself\u001b[0m\u001b[0;34m)\u001b[0m\u001b[0;34m:\u001b[0m\u001b[0;34m\u001b[0m\u001b[0;34m\u001b[0m\u001b[0m\n",
      "\u001b[0;32m~/.local/lib/python3.8/site-packages/matplotlib/axes/_base.py\u001b[0m in \u001b[0;36m_plot_args\u001b[0;34m(self, tup, kwargs, return_kwargs)\u001b[0m\n\u001b[1;32m    496\u001b[0m \u001b[0;34m\u001b[0m\u001b[0m\n\u001b[1;32m    497\u001b[0m         \u001b[0;32mif\u001b[0m \u001b[0mx\u001b[0m\u001b[0;34m.\u001b[0m\u001b[0mshape\u001b[0m\u001b[0;34m[\u001b[0m\u001b[0;36m0\u001b[0m\u001b[0;34m]\u001b[0m \u001b[0;34m!=\u001b[0m \u001b[0my\u001b[0m\u001b[0;34m.\u001b[0m\u001b[0mshape\u001b[0m\u001b[0;34m[\u001b[0m\u001b[0;36m0\u001b[0m\u001b[0;34m]\u001b[0m\u001b[0;34m:\u001b[0m\u001b[0;34m\u001b[0m\u001b[0;34m\u001b[0m\u001b[0m\n\u001b[0;32m--> 498\u001b[0;31m             raise ValueError(f\"x and y must have same first dimension, but \"\n\u001b[0m\u001b[1;32m    499\u001b[0m                              f\"have shapes {x.shape} and {y.shape}\")\n\u001b[1;32m    500\u001b[0m         \u001b[0;32mif\u001b[0m \u001b[0mx\u001b[0m\u001b[0;34m.\u001b[0m\u001b[0mndim\u001b[0m \u001b[0;34m>\u001b[0m \u001b[0;36m2\u001b[0m \u001b[0;32mor\u001b[0m \u001b[0my\u001b[0m\u001b[0;34m.\u001b[0m\u001b[0mndim\u001b[0m \u001b[0;34m>\u001b[0m \u001b[0;36m2\u001b[0m\u001b[0;34m:\u001b[0m\u001b[0;34m\u001b[0m\u001b[0;34m\u001b[0m\u001b[0m\n",
      "\u001b[0;31mValueError\u001b[0m: x and y must have same first dimension, but have shapes (6,) and (8,)"
     ]
    },
    {
     "data": {
      "image/png": "[encoded data removed]",
      "text/plain": [
       "<Figure size 432x288 with 1 Axes>"
      ]
     },
     "metadata": {
      "needs_background": "light"
     },
     "output_type": "display_data"
    }
   ],
   "source": [
    "### Here we use VAR data to create Figure 2b\n",
    "\n",
    "## Here we generate the data\n",
    "I=1000  #Number of intervals, which leaves a model sample size (hat(n)) of 4\n",
    "lambdas=[0.01,0.05,0.1,0.15,0.2,0.25]\n",
    "sample_size=np.zeros(len(lambdas))\n",
    "runs=100\n",
    "success4=np.zeros(len(lambdas))\n",
    "n_switch=40  #Ground truth sample size\n",
    "np.random.seed(0)\n",
    "d=5 #Dimensionality\n",
    "target=1 #Target covariate\n",
    "length=4000  #Total length of the time series\n",
    "for p,lam in enumerate(lambdas):\n",
    "    print('Lambda',p+1,'of',len(lambdas))\n",
    "    for r in range(runs):\n",
    "        n=length//I  #Model sample size (hat(n))\n",
    "        sample_size[p]=n\n",
    "        series=np.zeros((length,d))\n",
    "        x=np.zeros((I,n,d))\n",
    "        y=np.zeros((I,n))\n",
    "        A=np.array([[0.5,-0.7,0,0,0.9],[0,0.4,1,0,0.5],[0,0,-0.9,0,0],[0,0.5,0,0.8,-1],[0,0,0,0,0.4]])\n",
    "        supp=copy.copy(A)\n",
    "        supp[supp!=0]=1\n",
    "        non_supp=np.argwhere(A == 0)\n",
    "        mean=np.zeros((d))\n",
    "        cov=np.eye(d)\n",
    "        series[0]=np.random.multivariate_normal(mean,4*np.eye(d))\n",
    "        count=1\n",
    "        i=-1\n",
    "        b=np.random.uniform(low=0,high=30)\n",
    "        a=np.random.uniform(low=-30,high=0)\n",
    "        for j in range(0,n*I-1):\n",
    "            series[j+1] =np.matmul(series[j],A)\n",
    "            series[j+1,np.delete(np.array([0,1,2,3,4]),target)] =series[j+1,np.delete(np.array([0,1,2,3,4]),target)]+ np.random.uniform(low=a,high=b,size=(d-1))\n",
    "            A=A+np.random.normal(loc=-0.001,scale=0.001,size=(5,5))*supp\n",
    "            A[A>0.9]=0.8\n",
    "            A[A<-0.9]=-0.8\n",
    "            if j%n_switch==0:\n",
    "                b=np.random.uniform(low=0,high=30)\n",
    "                a=np.random.uniform(low=-30,high=0)\n",
    "            if j%n==0:\n",
    "                i+=1\n",
    "            x[i,j-i*n,:]=series[j,:]\n",
    "            y[i,j-i*n]=series[j+1,target]\n",
    "            y[i,j-i*n]=series[j+1,target]+np.random.normal(loc=0,scale=1)\n",
    "\n",
    "        ## Here we perform the variance test\n",
    "        R=np.zeros((I,n))\n",
    "        a=[list(itertools.combinations((0,1,2,3,4), k)) for k in range(0,d)]\n",
    "        subsets = [item for sublist in a for item in sublist]\n",
    "        dic={}\n",
    "\n",
    "        for ind in subsets:\n",
    "            for i in range(I):\n",
    "                if len(ind)==0:\n",
    "                    R[i,:]=y[i,:]\n",
    "                else:\n",
    "                    ind=np.array(ind)\n",
    "                    beta_hat=np.linalg.inv(x[i,:,ind]@x[i,:,ind].T+lam*np.eye(len(ind)))@(x[i,:,ind])@y[i,:]\n",
    "                    R[i,:]=y[i,:]-x[i,:,ind].T@beta_hat\n",
    "\n",
    "\n",
    "            dic[tuple(ind)]=copy.copy(R)\n",
    "        S_ini=[]\n",
    "        for k in dic:\n",
    "            Res=dic[k]\n",
    "            if np.var(np.var(Res,axis=1))<1:\n",
    "                S_ini.append(k)\n",
    "        plausibleS=[set(S_ini[k]) for k in range(len(S_ini))]\n",
    "        if not not plausibleS:\n",
    "            if tuple(set.intersection(*plausibleS))==tuple((np.argwhere(A[:,target]!=0).flatten())):\n",
    "                success4[p]+=1\n",
    "success4=success4/runs\n",
    "fig, ax = plt.subplots()\n",
    "for label in (ax.get_xticklabels() + ax.get_yticklabels()):\n",
    "\tlabel.set_fontsize(14)\n",
    "plt.plot(lambdas,success4,linewidth=2.5)\n",
    "plt.xlabel('Lambda',fontsize=14)\n",
    "plt.ylabel('Success Rate',fontsize=14)\n",
    "plt.savefig('variationVAR.eps', format='eps')"
   ]
  },
  {
   "cell_type": "code",
   "execution_count": null,
   "id": "9d4398a9",
   "metadata": {},
   "outputs": [],
   "source": []
  }
 ],
 "metadata": {
  "kernelspec": {
   "display_name": "Python 3 (ipykernel)",
   "language": "python",
   "name": "python3"
  },
  "language_info": {
   "codemirror_mode": {
    "name": "ipython",
    "version": 3
   },
   "file_extension": ".py",
   "mimetype": "text/x-python",
   "name": "python",
   "nbconvert_exporter": "python",
   "pygments_lexer": "ipython3",
   "version": "3.8.10"
  }
 },
 "nbformat": 4,
 "nbformat_minor": 5
}
